{
  "nbformat": 4,
  "nbformat_minor": 0,
  "metadata": {
    "colab": {
      "provenance": []
    },
    "kernelspec": {
      "name": "python3",
      "display_name": "Python 3"
    },
    "language_info": {
      "name": "python"
    },
    "widgets": {
      "application/vnd.jupyter.widget-state+json": {
        "5423669a12294255a8249a6623c3d0df": {
          "model_module": "@jupyter-widgets/controls",
          "model_name": "VBoxModel",
          "model_module_version": "1.5.0",
          "state": {
            "_dom_classes": [
              "widget-interact"
            ],
            "_model_module": "@jupyter-widgets/controls",
            "_model_module_version": "1.5.0",
            "_model_name": "VBoxModel",
            "_view_count": null,
            "_view_module": "@jupyter-widgets/controls",
            "_view_module_version": "1.5.0",
            "_view_name": "VBoxView",
            "box_style": "",
            "children": [
              "IPY_MODEL_e96a450976ff40faa5f9020dece8fbdd",
              "IPY_MODEL_910cda08909e42fb898cd7352db89f85",
              "IPY_MODEL_7c63c0be2cfa4b578b2cca4d9b706a2a",
              "IPY_MODEL_c5eafda6f0b444e0b3a0f8c9172de474",
              "IPY_MODEL_0a67e09e08154363a2d3a8ae3bd5402a",
              "IPY_MODEL_b2d248ab39f4444ea38cc2b9069d00d1",
              "IPY_MODEL_be0a25bb350042ef9e0a095fae316d4a",
              "IPY_MODEL_1f149ecdd9634989ab013f4988f28a34",
              "IPY_MODEL_a5dc7094b0404b06891c728795403199",
              "IPY_MODEL_8000aabd94824cbdb4b020281dd5ecb0"
            ],
            "layout": "IPY_MODEL_ee3112f7b8344126b8cefd0aaf8b96e5"
          }
        },
        "e96a450976ff40faa5f9020dece8fbdd": {
          "model_module": "@jupyter-widgets/controls",
          "model_name": "FloatSliderModel",
          "model_module_version": "1.5.0",
          "state": {
            "_dom_classes": [],
            "_model_module": "@jupyter-widgets/controls",
            "_model_module_version": "1.5.0",
            "_model_name": "FloatSliderModel",
            "_view_count": null,
            "_view_module": "@jupyter-widgets/controls",
            "_view_module_version": "1.5.0",
            "_view_name": "FloatSliderView",
            "continuous_update": true,
            "description": "Lambda",
            "description_tooltip": null,
            "disabled": false,
            "layout": "IPY_MODEL_b256362ea9844b12bbe91f114fbb6065",
            "max": 100,
            "min": 0.01,
            "orientation": "horizontal",
            "readout": true,
            "readout_format": ".2f",
            "step": 0.01,
            "style": "IPY_MODEL_31364e5e598e4b96bf9d60fa6eafa1df",
            "value": 1
          }
        },
        "910cda08909e42fb898cd7352db89f85": {
          "model_module": "@jupyter-widgets/controls",
          "model_name": "FloatSliderModel",
          "model_module_version": "1.5.0",
          "state": {
            "_dom_classes": [],
            "_model_module": "@jupyter-widgets/controls",
            "_model_module_version": "1.5.0",
            "_model_name": "FloatSliderModel",
            "_view_count": null,
            "_view_module": "@jupyter-widgets/controls",
            "_view_module_version": "1.5.0",
            "_view_name": "FloatSliderView",
            "continuous_update": true,
            "description": "Median Income",
            "description_tooltip": null,
            "disabled": false,
            "layout": "IPY_MODEL_c68ec666ecfe4b69a5663176b0e6aff9",
            "max": 15,
            "min": 0,
            "orientation": "horizontal",
            "readout": true,
            "readout_format": ".2f",
            "step": 0.1,
            "style": "IPY_MODEL_d7b5333257344cf984d80848433b626a",
            "value": 0
          }
        },
        "7c63c0be2cfa4b578b2cca4d9b706a2a": {
          "model_module": "@jupyter-widgets/controls",
          "model_name": "FloatSliderModel",
          "model_module_version": "1.5.0",
          "state": {
            "_dom_classes": [],
            "_model_module": "@jupyter-widgets/controls",
            "_model_module_version": "1.5.0",
            "_model_name": "FloatSliderModel",
            "_view_count": null,
            "_view_module": "@jupyter-widgets/controls",
            "_view_module_version": "1.5.0",
            "_view_name": "FloatSliderView",
            "continuous_update": true,
            "description": "House Age",
            "description_tooltip": null,
            "disabled": false,
            "layout": "IPY_MODEL_a459557735b842cdaac6d7973789bfc4",
            "max": 100,
            "min": 0,
            "orientation": "horizontal",
            "readout": true,
            "readout_format": ".2f",
            "step": 1,
            "style": "IPY_MODEL_6d269993f95f478c91e94aff933332c1",
            "value": 20
          }
        },
        "c5eafda6f0b444e0b3a0f8c9172de474": {
          "model_module": "@jupyter-widgets/controls",
          "model_name": "FloatSliderModel",
          "model_module_version": "1.5.0",
          "state": {
            "_dom_classes": [],
            "_model_module": "@jupyter-widgets/controls",
            "_model_module_version": "1.5.0",
            "_model_name": "FloatSliderModel",
            "_view_count": null,
            "_view_module": "@jupyter-widgets/controls",
            "_view_module_version": "1.5.0",
            "_view_name": "FloatSliderView",
            "continuous_update": true,
            "description": "Avg Rooms",
            "description_tooltip": null,
            "disabled": false,
            "layout": "IPY_MODEL_2485a99b9f304f96bdda23d693816283",
            "max": 10,
            "min": 0,
            "orientation": "horizontal",
            "readout": true,
            "readout_format": ".2f",
            "step": 0.1,
            "style": "IPY_MODEL_af54c4e928b348c7b6191018f831d59f",
            "value": 5
          }
        },
        "0a67e09e08154363a2d3a8ae3bd5402a": {
          "model_module": "@jupyter-widgets/controls",
          "model_name": "FloatSliderModel",
          "model_module_version": "1.5.0",
          "state": {
            "_dom_classes": [],
            "_model_module": "@jupyter-widgets/controls",
            "_model_module_version": "1.5.0",
            "_model_name": "FloatSliderModel",
            "_view_count": null,
            "_view_module": "@jupyter-widgets/controls",
            "_view_module_version": "1.5.0",
            "_view_name": "FloatSliderView",
            "continuous_update": true,
            "description": "Avg Bedrooms",
            "description_tooltip": null,
            "disabled": false,
            "layout": "IPY_MODEL_6af9313e4c33490bad22ccdd74b6124a",
            "max": 5,
            "min": 0,
            "orientation": "horizontal",
            "readout": true,
            "readout_format": ".2f",
            "step": 0.1,
            "style": "IPY_MODEL_ba341642603c482fbec391451844f6b0",
            "value": 1
          }
        },
        "b2d248ab39f4444ea38cc2b9069d00d1": {
          "model_module": "@jupyter-widgets/controls",
          "model_name": "FloatSliderModel",
          "model_module_version": "1.5.0",
          "state": {
            "_dom_classes": [],
            "_model_module": "@jupyter-widgets/controls",
            "_model_module_version": "1.5.0",
            "_model_name": "FloatSliderModel",
            "_view_count": null,
            "_view_module": "@jupyter-widgets/controls",
            "_view_module_version": "1.5.0",
            "_view_name": "FloatSliderView",
            "continuous_update": true,
            "description": "Population",
            "description_tooltip": null,
            "disabled": false,
            "layout": "IPY_MODEL_24710762c95749b08387c56481f90d61",
            "max": 5000,
            "min": 0,
            "orientation": "horizontal",
            "readout": true,
            "readout_format": ".2f",
            "step": 10,
            "style": "IPY_MODEL_6161c84ebbd945e7a2a09292d83c0aa7",
            "value": 1000
          }
        },
        "be0a25bb350042ef9e0a095fae316d4a": {
          "model_module": "@jupyter-widgets/controls",
          "model_name": "FloatSliderModel",
          "model_module_version": "1.5.0",
          "state": {
            "_dom_classes": [],
            "_model_module": "@jupyter-widgets/controls",
            "_model_module_version": "1.5.0",
            "_model_name": "FloatSliderModel",
            "_view_count": null,
            "_view_module": "@jupyter-widgets/controls",
            "_view_module_version": "1.5.0",
            "_view_name": "FloatSliderView",
            "continuous_update": true,
            "description": "Avg Occupancy",
            "description_tooltip": null,
            "disabled": false,
            "layout": "IPY_MODEL_a3169a9c6aa1450db0d5a094b2fd6b64",
            "max": 10,
            "min": 0,
            "orientation": "horizontal",
            "readout": true,
            "readout_format": ".2f",
            "step": 0.1,
            "style": "IPY_MODEL_a1983f414aa9451fa708c12d2c90874c",
            "value": 3
          }
        },
        "1f149ecdd9634989ab013f4988f28a34": {
          "model_module": "@jupyter-widgets/controls",
          "model_name": "FloatSliderModel",
          "model_module_version": "1.5.0",
          "state": {
            "_dom_classes": [],
            "_model_module": "@jupyter-widgets/controls",
            "_model_module_version": "1.5.0",
            "_model_name": "FloatSliderModel",
            "_view_count": null,
            "_view_module": "@jupyter-widgets/controls",
            "_view_module_version": "1.5.0",
            "_view_name": "FloatSliderView",
            "continuous_update": true,
            "description": "Latitude",
            "description_tooltip": null,
            "disabled": false,
            "layout": "IPY_MODEL_fa5a55e269ba484288cc8e7bc6d50225",
            "max": 42,
            "min": 32,
            "orientation": "horizontal",
            "readout": true,
            "readout_format": ".2f",
            "step": 0.1,
            "style": "IPY_MODEL_a4ea43a99c72444497bd8d1620e9e087",
            "value": 37
          }
        },
        "a5dc7094b0404b06891c728795403199": {
          "model_module": "@jupyter-widgets/controls",
          "model_name": "FloatSliderModel",
          "model_module_version": "1.5.0",
          "state": {
            "_dom_classes": [],
            "_model_module": "@jupyter-widgets/controls",
            "_model_module_version": "1.5.0",
            "_model_name": "FloatSliderModel",
            "_view_count": null,
            "_view_module": "@jupyter-widgets/controls",
            "_view_module_version": "1.5.0",
            "_view_name": "FloatSliderView",
            "continuous_update": true,
            "description": "Longitude",
            "description_tooltip": null,
            "disabled": false,
            "layout": "IPY_MODEL_99fa7412e83d40268047b4f307494d18",
            "max": -114,
            "min": -125,
            "orientation": "horizontal",
            "readout": true,
            "readout_format": ".2f",
            "step": 0.1,
            "style": "IPY_MODEL_85047b6892dd465f93c5a1449a5aa028",
            "value": -122
          }
        },
        "8000aabd94824cbdb4b020281dd5ecb0": {
          "model_module": "@jupyter-widgets/output",
          "model_name": "OutputModel",
          "model_module_version": "1.0.0",
          "state": {
            "_dom_classes": [],
            "_model_module": "@jupyter-widgets/output",
            "_model_module_version": "1.0.0",
            "_model_name": "OutputModel",
            "_view_count": null,
            "_view_module": "@jupyter-widgets/output",
            "_view_module_version": "1.0.0",
            "_view_name": "OutputView",
            "layout": "IPY_MODEL_c25eea077c21477dbd514e4b7ae1b334",
            "msg_id": "",
            "outputs": [
              {
                "output_type": "stream",
                "name": "stdout",
                "text": [
                  "Predicted Median House Value: 0.70\n"
                ]
              },
              {
                "output_type": "stream",
                "name": "stderr",
                "text": [
                  "/usr/local/lib/python3.11/dist-packages/sklearn/utils/validation.py:2739: UserWarning:\n",
                  "\n",
                  "X does not have valid feature names, but StandardScaler was fitted with feature names\n",
                  "\n"
                ]
              }
            ]
          }
        },
        "ee3112f7b8344126b8cefd0aaf8b96e5": {
          "model_module": "@jupyter-widgets/base",
          "model_name": "LayoutModel",
          "model_module_version": "1.2.0",
          "state": {
            "_model_module": "@jupyter-widgets/base",
            "_model_module_version": "1.2.0",
            "_model_name": "LayoutModel",
            "_view_count": null,
            "_view_module": "@jupyter-widgets/base",
            "_view_module_version": "1.2.0",
            "_view_name": "LayoutView",
            "align_content": null,
            "align_items": null,
            "align_self": null,
            "border": null,
            "bottom": null,
            "display": null,
            "flex": null,
            "flex_flow": null,
            "grid_area": null,
            "grid_auto_columns": null,
            "grid_auto_flow": null,
            "grid_auto_rows": null,
            "grid_column": null,
            "grid_gap": null,
            "grid_row": null,
            "grid_template_areas": null,
            "grid_template_columns": null,
            "grid_template_rows": null,
            "height": null,
            "justify_content": null,
            "justify_items": null,
            "left": null,
            "margin": null,
            "max_height": null,
            "max_width": null,
            "min_height": null,
            "min_width": null,
            "object_fit": null,
            "object_position": null,
            "order": null,
            "overflow": null,
            "overflow_x": null,
            "overflow_y": null,
            "padding": null,
            "right": null,
            "top": null,
            "visibility": null,
            "width": null
          }
        },
        "b256362ea9844b12bbe91f114fbb6065": {
          "model_module": "@jupyter-widgets/base",
          "model_name": "LayoutModel",
          "model_module_version": "1.2.0",
          "state": {
            "_model_module": "@jupyter-widgets/base",
            "_model_module_version": "1.2.0",
            "_model_name": "LayoutModel",
            "_view_count": null,
            "_view_module": "@jupyter-widgets/base",
            "_view_module_version": "1.2.0",
            "_view_name": "LayoutView",
            "align_content": null,
            "align_items": null,
            "align_self": null,
            "border": null,
            "bottom": null,
            "display": null,
            "flex": null,
            "flex_flow": null,
            "grid_area": null,
            "grid_auto_columns": null,
            "grid_auto_flow": null,
            "grid_auto_rows": null,
            "grid_column": null,
            "grid_gap": null,
            "grid_row": null,
            "grid_template_areas": null,
            "grid_template_columns": null,
            "grid_template_rows": null,
            "height": null,
            "justify_content": null,
            "justify_items": null,
            "left": null,
            "margin": null,
            "max_height": null,
            "max_width": null,
            "min_height": null,
            "min_width": null,
            "object_fit": null,
            "object_position": null,
            "order": null,
            "overflow": null,
            "overflow_x": null,
            "overflow_y": null,
            "padding": null,
            "right": null,
            "top": null,
            "visibility": null,
            "width": null
          }
        },
        "31364e5e598e4b96bf9d60fa6eafa1df": {
          "model_module": "@jupyter-widgets/controls",
          "model_name": "SliderStyleModel",
          "model_module_version": "1.5.0",
          "state": {
            "_model_module": "@jupyter-widgets/controls",
            "_model_module_version": "1.5.0",
            "_model_name": "SliderStyleModel",
            "_view_count": null,
            "_view_module": "@jupyter-widgets/base",
            "_view_module_version": "1.2.0",
            "_view_name": "StyleView",
            "description_width": "",
            "handle_color": null
          }
        },
        "c68ec666ecfe4b69a5663176b0e6aff9": {
          "model_module": "@jupyter-widgets/base",
          "model_name": "LayoutModel",
          "model_module_version": "1.2.0",
          "state": {
            "_model_module": "@jupyter-widgets/base",
            "_model_module_version": "1.2.0",
            "_model_name": "LayoutModel",
            "_view_count": null,
            "_view_module": "@jupyter-widgets/base",
            "_view_module_version": "1.2.0",
            "_view_name": "LayoutView",
            "align_content": null,
            "align_items": null,
            "align_self": null,
            "border": null,
            "bottom": null,
            "display": null,
            "flex": null,
            "flex_flow": null,
            "grid_area": null,
            "grid_auto_columns": null,
            "grid_auto_flow": null,
            "grid_auto_rows": null,
            "grid_column": null,
            "grid_gap": null,
            "grid_row": null,
            "grid_template_areas": null,
            "grid_template_columns": null,
            "grid_template_rows": null,
            "height": null,
            "justify_content": null,
            "justify_items": null,
            "left": null,
            "margin": null,
            "max_height": null,
            "max_width": null,
            "min_height": null,
            "min_width": null,
            "object_fit": null,
            "object_position": null,
            "order": null,
            "overflow": null,
            "overflow_x": null,
            "overflow_y": null,
            "padding": null,
            "right": null,
            "top": null,
            "visibility": null,
            "width": null
          }
        },
        "d7b5333257344cf984d80848433b626a": {
          "model_module": "@jupyter-widgets/controls",
          "model_name": "SliderStyleModel",
          "model_module_version": "1.5.0",
          "state": {
            "_model_module": "@jupyter-widgets/controls",
            "_model_module_version": "1.5.0",
            "_model_name": "SliderStyleModel",
            "_view_count": null,
            "_view_module": "@jupyter-widgets/base",
            "_view_module_version": "1.2.0",
            "_view_name": "StyleView",
            "description_width": "",
            "handle_color": null
          }
        },
        "a459557735b842cdaac6d7973789bfc4": {
          "model_module": "@jupyter-widgets/base",
          "model_name": "LayoutModel",
          "model_module_version": "1.2.0",
          "state": {
            "_model_module": "@jupyter-widgets/base",
            "_model_module_version": "1.2.0",
            "_model_name": "LayoutModel",
            "_view_count": null,
            "_view_module": "@jupyter-widgets/base",
            "_view_module_version": "1.2.0",
            "_view_name": "LayoutView",
            "align_content": null,
            "align_items": null,
            "align_self": null,
            "border": null,
            "bottom": null,
            "display": null,
            "flex": null,
            "flex_flow": null,
            "grid_area": null,
            "grid_auto_columns": null,
            "grid_auto_flow": null,
            "grid_auto_rows": null,
            "grid_column": null,
            "grid_gap": null,
            "grid_row": null,
            "grid_template_areas": null,
            "grid_template_columns": null,
            "grid_template_rows": null,
            "height": null,
            "justify_content": null,
            "justify_items": null,
            "left": null,
            "margin": null,
            "max_height": null,
            "max_width": null,
            "min_height": null,
            "min_width": null,
            "object_fit": null,
            "object_position": null,
            "order": null,
            "overflow": null,
            "overflow_x": null,
            "overflow_y": null,
            "padding": null,
            "right": null,
            "top": null,
            "visibility": null,
            "width": null
          }
        },
        "6d269993f95f478c91e94aff933332c1": {
          "model_module": "@jupyter-widgets/controls",
          "model_name": "SliderStyleModel",
          "model_module_version": "1.5.0",
          "state": {
            "_model_module": "@jupyter-widgets/controls",
            "_model_module_version": "1.5.0",
            "_model_name": "SliderStyleModel",
            "_view_count": null,
            "_view_module": "@jupyter-widgets/base",
            "_view_module_version": "1.2.0",
            "_view_name": "StyleView",
            "description_width": "",
            "handle_color": null
          }
        },
        "2485a99b9f304f96bdda23d693816283": {
          "model_module": "@jupyter-widgets/base",
          "model_name": "LayoutModel",
          "model_module_version": "1.2.0",
          "state": {
            "_model_module": "@jupyter-widgets/base",
            "_model_module_version": "1.2.0",
            "_model_name": "LayoutModel",
            "_view_count": null,
            "_view_module": "@jupyter-widgets/base",
            "_view_module_version": "1.2.0",
            "_view_name": "LayoutView",
            "align_content": null,
            "align_items": null,
            "align_self": null,
            "border": null,
            "bottom": null,
            "display": null,
            "flex": null,
            "flex_flow": null,
            "grid_area": null,
            "grid_auto_columns": null,
            "grid_auto_flow": null,
            "grid_auto_rows": null,
            "grid_column": null,
            "grid_gap": null,
            "grid_row": null,
            "grid_template_areas": null,
            "grid_template_columns": null,
            "grid_template_rows": null,
            "height": null,
            "justify_content": null,
            "justify_items": null,
            "left": null,
            "margin": null,
            "max_height": null,
            "max_width": null,
            "min_height": null,
            "min_width": null,
            "object_fit": null,
            "object_position": null,
            "order": null,
            "overflow": null,
            "overflow_x": null,
            "overflow_y": null,
            "padding": null,
            "right": null,
            "top": null,
            "visibility": null,
            "width": null
          }
        },
        "af54c4e928b348c7b6191018f831d59f": {
          "model_module": "@jupyter-widgets/controls",
          "model_name": "SliderStyleModel",
          "model_module_version": "1.5.0",
          "state": {
            "_model_module": "@jupyter-widgets/controls",
            "_model_module_version": "1.5.0",
            "_model_name": "SliderStyleModel",
            "_view_count": null,
            "_view_module": "@jupyter-widgets/base",
            "_view_module_version": "1.2.0",
            "_view_name": "StyleView",
            "description_width": "",
            "handle_color": null
          }
        },
        "6af9313e4c33490bad22ccdd74b6124a": {
          "model_module": "@jupyter-widgets/base",
          "model_name": "LayoutModel",
          "model_module_version": "1.2.0",
          "state": {
            "_model_module": "@jupyter-widgets/base",
            "_model_module_version": "1.2.0",
            "_model_name": "LayoutModel",
            "_view_count": null,
            "_view_module": "@jupyter-widgets/base",
            "_view_module_version": "1.2.0",
            "_view_name": "LayoutView",
            "align_content": null,
            "align_items": null,
            "align_self": null,
            "border": null,
            "bottom": null,
            "display": null,
            "flex": null,
            "flex_flow": null,
            "grid_area": null,
            "grid_auto_columns": null,
            "grid_auto_flow": null,
            "grid_auto_rows": null,
            "grid_column": null,
            "grid_gap": null,
            "grid_row": null,
            "grid_template_areas": null,
            "grid_template_columns": null,
            "grid_template_rows": null,
            "height": null,
            "justify_content": null,
            "justify_items": null,
            "left": null,
            "margin": null,
            "max_height": null,
            "max_width": null,
            "min_height": null,
            "min_width": null,
            "object_fit": null,
            "object_position": null,
            "order": null,
            "overflow": null,
            "overflow_x": null,
            "overflow_y": null,
            "padding": null,
            "right": null,
            "top": null,
            "visibility": null,
            "width": null
          }
        },
        "ba341642603c482fbec391451844f6b0": {
          "model_module": "@jupyter-widgets/controls",
          "model_name": "SliderStyleModel",
          "model_module_version": "1.5.0",
          "state": {
            "_model_module": "@jupyter-widgets/controls",
            "_model_module_version": "1.5.0",
            "_model_name": "SliderStyleModel",
            "_view_count": null,
            "_view_module": "@jupyter-widgets/base",
            "_view_module_version": "1.2.0",
            "_view_name": "StyleView",
            "description_width": "",
            "handle_color": null
          }
        },
        "24710762c95749b08387c56481f90d61": {
          "model_module": "@jupyter-widgets/base",
          "model_name": "LayoutModel",
          "model_module_version": "1.2.0",
          "state": {
            "_model_module": "@jupyter-widgets/base",
            "_model_module_version": "1.2.0",
            "_model_name": "LayoutModel",
            "_view_count": null,
            "_view_module": "@jupyter-widgets/base",
            "_view_module_version": "1.2.0",
            "_view_name": "LayoutView",
            "align_content": null,
            "align_items": null,
            "align_self": null,
            "border": null,
            "bottom": null,
            "display": null,
            "flex": null,
            "flex_flow": null,
            "grid_area": null,
            "grid_auto_columns": null,
            "grid_auto_flow": null,
            "grid_auto_rows": null,
            "grid_column": null,
            "grid_gap": null,
            "grid_row": null,
            "grid_template_areas": null,
            "grid_template_columns": null,
            "grid_template_rows": null,
            "height": null,
            "justify_content": null,
            "justify_items": null,
            "left": null,
            "margin": null,
            "max_height": null,
            "max_width": null,
            "min_height": null,
            "min_width": null,
            "object_fit": null,
            "object_position": null,
            "order": null,
            "overflow": null,
            "overflow_x": null,
            "overflow_y": null,
            "padding": null,
            "right": null,
            "top": null,
            "visibility": null,
            "width": null
          }
        },
        "6161c84ebbd945e7a2a09292d83c0aa7": {
          "model_module": "@jupyter-widgets/controls",
          "model_name": "SliderStyleModel",
          "model_module_version": "1.5.0",
          "state": {
            "_model_module": "@jupyter-widgets/controls",
            "_model_module_version": "1.5.0",
            "_model_name": "SliderStyleModel",
            "_view_count": null,
            "_view_module": "@jupyter-widgets/base",
            "_view_module_version": "1.2.0",
            "_view_name": "StyleView",
            "description_width": "",
            "handle_color": null
          }
        },
        "a3169a9c6aa1450db0d5a094b2fd6b64": {
          "model_module": "@jupyter-widgets/base",
          "model_name": "LayoutModel",
          "model_module_version": "1.2.0",
          "state": {
            "_model_module": "@jupyter-widgets/base",
            "_model_module_version": "1.2.0",
            "_model_name": "LayoutModel",
            "_view_count": null,
            "_view_module": "@jupyter-widgets/base",
            "_view_module_version": "1.2.0",
            "_view_name": "LayoutView",
            "align_content": null,
            "align_items": null,
            "align_self": null,
            "border": null,
            "bottom": null,
            "display": null,
            "flex": null,
            "flex_flow": null,
            "grid_area": null,
            "grid_auto_columns": null,
            "grid_auto_flow": null,
            "grid_auto_rows": null,
            "grid_column": null,
            "grid_gap": null,
            "grid_row": null,
            "grid_template_areas": null,
            "grid_template_columns": null,
            "grid_template_rows": null,
            "height": null,
            "justify_content": null,
            "justify_items": null,
            "left": null,
            "margin": null,
            "max_height": null,
            "max_width": null,
            "min_height": null,
            "min_width": null,
            "object_fit": null,
            "object_position": null,
            "order": null,
            "overflow": null,
            "overflow_x": null,
            "overflow_y": null,
            "padding": null,
            "right": null,
            "top": null,
            "visibility": null,
            "width": null
          }
        },
        "a1983f414aa9451fa708c12d2c90874c": {
          "model_module": "@jupyter-widgets/controls",
          "model_name": "SliderStyleModel",
          "model_module_version": "1.5.0",
          "state": {
            "_model_module": "@jupyter-widgets/controls",
            "_model_module_version": "1.5.0",
            "_model_name": "SliderStyleModel",
            "_view_count": null,
            "_view_module": "@jupyter-widgets/base",
            "_view_module_version": "1.2.0",
            "_view_name": "StyleView",
            "description_width": "",
            "handle_color": null
          }
        },
        "fa5a55e269ba484288cc8e7bc6d50225": {
          "model_module": "@jupyter-widgets/base",
          "model_name": "LayoutModel",
          "model_module_version": "1.2.0",
          "state": {
            "_model_module": "@jupyter-widgets/base",
            "_model_module_version": "1.2.0",
            "_model_name": "LayoutModel",
            "_view_count": null,
            "_view_module": "@jupyter-widgets/base",
            "_view_module_version": "1.2.0",
            "_view_name": "LayoutView",
            "align_content": null,
            "align_items": null,
            "align_self": null,
            "border": null,
            "bottom": null,
            "display": null,
            "flex": null,
            "flex_flow": null,
            "grid_area": null,
            "grid_auto_columns": null,
            "grid_auto_flow": null,
            "grid_auto_rows": null,
            "grid_column": null,
            "grid_gap": null,
            "grid_row": null,
            "grid_template_areas": null,
            "grid_template_columns": null,
            "grid_template_rows": null,
            "height": null,
            "justify_content": null,
            "justify_items": null,
            "left": null,
            "margin": null,
            "max_height": null,
            "max_width": null,
            "min_height": null,
            "min_width": null,
            "object_fit": null,
            "object_position": null,
            "order": null,
            "overflow": null,
            "overflow_x": null,
            "overflow_y": null,
            "padding": null,
            "right": null,
            "top": null,
            "visibility": null,
            "width": null
          }
        },
        "a4ea43a99c72444497bd8d1620e9e087": {
          "model_module": "@jupyter-widgets/controls",
          "model_name": "SliderStyleModel",
          "model_module_version": "1.5.0",
          "state": {
            "_model_module": "@jupyter-widgets/controls",
            "_model_module_version": "1.5.0",
            "_model_name": "SliderStyleModel",
            "_view_count": null,
            "_view_module": "@jupyter-widgets/base",
            "_view_module_version": "1.2.0",
            "_view_name": "StyleView",
            "description_width": "",
            "handle_color": null
          }
        },
        "99fa7412e83d40268047b4f307494d18": {
          "model_module": "@jupyter-widgets/base",
          "model_name": "LayoutModel",
          "model_module_version": "1.2.0",
          "state": {
            "_model_module": "@jupyter-widgets/base",
            "_model_module_version": "1.2.0",
            "_model_name": "LayoutModel",
            "_view_count": null,
            "_view_module": "@jupyter-widgets/base",
            "_view_module_version": "1.2.0",
            "_view_name": "LayoutView",
            "align_content": null,
            "align_items": null,
            "align_self": null,
            "border": null,
            "bottom": null,
            "display": null,
            "flex": null,
            "flex_flow": null,
            "grid_area": null,
            "grid_auto_columns": null,
            "grid_auto_flow": null,
            "grid_auto_rows": null,
            "grid_column": null,
            "grid_gap": null,
            "grid_row": null,
            "grid_template_areas": null,
            "grid_template_columns": null,
            "grid_template_rows": null,
            "height": null,
            "justify_content": null,
            "justify_items": null,
            "left": null,
            "margin": null,
            "max_height": null,
            "max_width": null,
            "min_height": null,
            "min_width": null,
            "object_fit": null,
            "object_position": null,
            "order": null,
            "overflow": null,
            "overflow_x": null,
            "overflow_y": null,
            "padding": null,
            "right": null,
            "top": null,
            "visibility": null,
            "width": null
          }
        },
        "85047b6892dd465f93c5a1449a5aa028": {
          "model_module": "@jupyter-widgets/controls",
          "model_name": "SliderStyleModel",
          "model_module_version": "1.5.0",
          "state": {
            "_model_module": "@jupyter-widgets/controls",
            "_model_module_version": "1.5.0",
            "_model_name": "SliderStyleModel",
            "_view_count": null,
            "_view_module": "@jupyter-widgets/base",
            "_view_module_version": "1.2.0",
            "_view_name": "StyleView",
            "description_width": "",
            "handle_color": null
          }
        },
        "c25eea077c21477dbd514e4b7ae1b334": {
          "model_module": "@jupyter-widgets/base",
          "model_name": "LayoutModel",
          "model_module_version": "1.2.0",
          "state": {
            "_model_module": "@jupyter-widgets/base",
            "_model_module_version": "1.2.0",
            "_model_name": "LayoutModel",
            "_view_count": null,
            "_view_module": "@jupyter-widgets/base",
            "_view_module_version": "1.2.0",
            "_view_name": "LayoutView",
            "align_content": null,
            "align_items": null,
            "align_self": null,
            "border": null,
            "bottom": null,
            "display": null,
            "flex": null,
            "flex_flow": null,
            "grid_area": null,
            "grid_auto_columns": null,
            "grid_auto_flow": null,
            "grid_auto_rows": null,
            "grid_column": null,
            "grid_gap": null,
            "grid_row": null,
            "grid_template_areas": null,
            "grid_template_columns": null,
            "grid_template_rows": null,
            "height": null,
            "justify_content": null,
            "justify_items": null,
            "left": null,
            "margin": null,
            "max_height": null,
            "max_width": null,
            "min_height": null,
            "min_width": null,
            "object_fit": null,
            "object_position": null,
            "order": null,
            "overflow": null,
            "overflow_x": null,
            "overflow_y": null,
            "padding": null,
            "right": null,
            "top": null,
            "visibility": null,
            "width": null
          }
        }
      }
    }
  },
  "cells": [
    {
      "cell_type": "code",
      "execution_count": 1,
      "metadata": {
        "id": "k2_9HOOTg-xa"
      },
      "outputs": [],
      "source": [
        "import numpy as np\n",
        "import pandas as pd\n",
        "import matplotlib.pyplot as plt\n",
        "\n",
        "from sklearn.datasets import fetch_california_housing\n",
        "from sklearn.model_selection import train_test_split\n",
        "from sklearn.preprocessing import StandardScaler\n",
        "from sklearn.metrics import mean_squared_error, r2_score\n"
      ]
    },
    {
      "cell_type": "markdown",
      "source": [
        "# **Section 1**"
      ],
      "metadata": {
        "id": "4IAgh1pljxWM"
      }
    },
    {
      "cell_type": "code",
      "source": [
        "# Load dataset\n",
        "housing = fetch_california_housing()\n",
        "X = pd.DataFrame(housing.data, columns=housing.feature_names)\n",
        "y = housing.target\n",
        "\n",
        "# Check data dimensions\n",
        "print(f\"Features shape: {X.shape}, Target shape: {y.shape}\")\n",
        "\n",
        "# Check for missing values\n",
        "print(\"\\nMissing values in each column:\\n\")\n",
        "print(X.isnull().sum())\n"
      ],
      "metadata": {
        "colab": {
          "base_uri": "https://localhost:8080/"
        },
        "id": "SCgRwnLShAiO",
        "outputId": "e138843b-1741-4a0c-9dfe-a34974ed88b8"
      },
      "execution_count": 2,
      "outputs": [
        {
          "output_type": "stream",
          "name": "stdout",
          "text": [
            "Features shape: (20640, 8), Target shape: (20640,)\n",
            "\n",
            "Missing values in each column:\n",
            "\n",
            "MedInc        0\n",
            "HouseAge      0\n",
            "AveRooms      0\n",
            "AveBedrms     0\n",
            "Population    0\n",
            "AveOccup      0\n",
            "Latitude      0\n",
            "Longitude     0\n",
            "dtype: int64\n"
          ]
        }
      ]
    },
    {
      "cell_type": "code",
      "source": [
        "# Standardize features\n",
        "scaler = StandardScaler()\n",
        "X_scaled = scaler.fit_transform(X)\n",
        "\n",
        "# Split data into 80% train and 20% test\n",
        "X_train, X_test, y_train, y_test = train_test_split(\n",
        "    X_scaled, y, test_size=0.2, random_state=42\n",
        ")\n"
      ],
      "metadata": {
        "id": "BhMit2GfhEN-"
      },
      "execution_count": 3,
      "outputs": []
    },
    {
      "cell_type": "markdown",
      "source": [
        "Ridge Regression - Closed-form Implementation"
      ],
      "metadata": {
        "id": "A1P-GUI1hH3A"
      }
    },
    {
      "cell_type": "code",
      "source": [
        "def ridge_closed_form(X, y, lambda_):\n",
        "    X_b = np.c_[np.ones((X.shape[0], 1)), X]  # Add bias term\n",
        "    n_features = X_b.shape[1]\n",
        "    I = np.eye(n_features)\n",
        "    I[0, 0] = 0  # Do not regularize bias\n",
        "    w = np.linalg.inv(X_b.T @ X_b + lambda_ * I) @ X_b.T @ y\n",
        "    return w\n",
        "\n",
        "def predict(X, w):\n",
        "    X_b = np.c_[np.ones((X.shape[0], 1)), X]\n",
        "    return X_b @ w\n",
        "\n",
        "# Train\n",
        "lambda_val = 1.0\n",
        "w_closed = ridge_closed_form(X_train, y_train, lambda_val)\n",
        "y_pred_closed = predict(X_test, w_closed)\n"
      ],
      "metadata": {
        "id": "zsAphC6IhFMD"
      },
      "execution_count": 4,
      "outputs": []
    },
    {
      "cell_type": "markdown",
      "source": [
        "Ridge Regression - Gradient Descent Implementation"
      ],
      "metadata": {
        "id": "C-hoBkwxhOeq"
      }
    },
    {
      "cell_type": "code",
      "source": [
        "def ridge_gradient_descent(X, y, lambda_, lr=0.01, n_iter=1000):\n",
        "    X_b = np.c_[np.ones((X.shape[0], 1)), X]\n",
        "    m, n = X_b.shape\n",
        "    w = np.random.randn(n)\n",
        "    loss_history = []\n",
        "\n",
        "    for i in range(n_iter):\n",
        "        y_pred = X_b @ w\n",
        "        error = y_pred - y\n",
        "        gradient = (2/m) * (X_b.T @ error + lambda_ * np.r_[0, w[1:]])\n",
        "        w -= lr * gradient\n",
        "        loss = mean_squared_error(y, y_pred)\n",
        "        loss_history.append(loss)\n",
        "\n",
        "    return w, loss_history\n",
        "\n",
        "# Train\n",
        "w_gd, loss_gd = ridge_gradient_descent(X_train, y_train, lambda_=1.0, lr=0.01)\n",
        "y_pred_gd = predict(X_test, w_gd)\n"
      ],
      "metadata": {
        "id": "arA54aJGhFOv"
      },
      "execution_count": 5,
      "outputs": []
    },
    {
      "cell_type": "markdown",
      "source": [
        "# **Section 2 Model Evaluation and Comparison**"
      ],
      "metadata": {
        "id": "cNMBTBhQhSxZ"
      }
    },
    {
      "cell_type": "markdown",
      "source": [
        "We will evaluate all Ridge Regression implementations — our closed-form solution, gradient descent, and scikit-learn’s Ridge\n",
        "\n",
        "Mean Squared Error (MSE) - lower is better\n",
        "\n",
        "R² Score - closer to 1 is better"
      ],
      "metadata": {
        "id": "X3_n2TKYiGlL"
      }
    },
    {
      "cell_type": "code",
      "source": [
        "from sklearn.metrics import mean_squared_error, r2_score\n",
        "import pandas as pd\n",
        "\n",
        "# Evaluation Function\n",
        "def evaluate(y_true, y_pred):\n",
        "    \"\"\"Returns evaluation metrics for predictions.\"\"\"\n",
        "    return {\n",
        "        \"MSE\": mean_squared_error(y_true, y_pred),\n",
        "        \"R2\": r2_score(y_true, y_pred)\n",
        "    }\n",
        "\n",
        "# Store Results\n",
        "results = {\n",
        "    \"Closed-Form\": evaluate(y_test, y_pred_closed),\n",
        "    \"Gradient Descent\": evaluate(y_test, y_pred_gd),\n",
        "}\n",
        "\n",
        "# ✅ For comparison only (allowed in Section 2)\n",
        "from sklearn.linear_model import Ridge\n",
        "ridge_sklearn = Ridge(alpha=1.0)\n",
        "ridge_sklearn.fit(X_train, y_train)\n",
        "y_pred_sklearn = ridge_sklearn.predict(X_test)\n",
        "results[\"Sklearn Ridge\"] = evaluate(y_test, y_pred_sklearn)\n",
        "\n",
        "# 📊 Display Results as Table\n",
        "results_df = pd.DataFrame(results).T\n",
        "print(\"📋 Ridge Regression Model Performance:\")\n",
        "display(results_df)\n"
      ],
      "metadata": {
        "colab": {
          "base_uri": "https://localhost:8080/",
          "height": 161
        },
        "id": "xMg0OPXthFRl",
        "outputId": "b59f33cf-ca38-4bb0-dae1-9c221deeb915"
      },
      "execution_count": 22,
      "outputs": [
        {
          "output_type": "stream",
          "name": "stdout",
          "text": [
            "📋 Ridge Regression Model Performance:\n"
          ]
        },
        {
          "output_type": "display_data",
          "data": {
            "text/plain": [
              "                       MSE        R2\n",
              "Closed-Form       0.555851  0.575819\n",
              "Gradient Descent  0.573286  0.562514\n",
              "Sklearn Ridge     0.555851  0.575819"
            ],
            "text/html": [
              "\n",
              "  <div id=\"df-0c3a7f28-8ff4-418c-876e-3096c4cc2e92\" class=\"colab-df-container\">\n",
              "    <div>\n",
              "<style scoped>\n",
              "    .dataframe tbody tr th:only-of-type {\n",
              "        vertical-align: middle;\n",
              "    }\n",
              "\n",
              "    .dataframe tbody tr th {\n",
              "        vertical-align: top;\n",
              "    }\n",
              "\n",
              "    .dataframe thead th {\n",
              "        text-align: right;\n",
              "    }\n",
              "</style>\n",
              "<table border=\"1\" class=\"dataframe\">\n",
              "  <thead>\n",
              "    <tr style=\"text-align: right;\">\n",
              "      <th></th>\n",
              "      <th>MSE</th>\n",
              "      <th>R2</th>\n",
              "    </tr>\n",
              "  </thead>\n",
              "  <tbody>\n",
              "    <tr>\n",
              "      <th>Closed-Form</th>\n",
              "      <td>0.555851</td>\n",
              "      <td>0.575819</td>\n",
              "    </tr>\n",
              "    <tr>\n",
              "      <th>Gradient Descent</th>\n",
              "      <td>0.573286</td>\n",
              "      <td>0.562514</td>\n",
              "    </tr>\n",
              "    <tr>\n",
              "      <th>Sklearn Ridge</th>\n",
              "      <td>0.555851</td>\n",
              "      <td>0.575819</td>\n",
              "    </tr>\n",
              "  </tbody>\n",
              "</table>\n",
              "</div>\n",
              "    <div class=\"colab-df-buttons\">\n",
              "\n",
              "  <div class=\"colab-df-container\">\n",
              "    <button class=\"colab-df-convert\" onclick=\"convertToInteractive('df-0c3a7f28-8ff4-418c-876e-3096c4cc2e92')\"\n",
              "            title=\"Convert this dataframe to an interactive table.\"\n",
              "            style=\"display:none;\">\n",
              "\n",
              "  <svg xmlns=\"http://www.w3.org/2000/svg\" height=\"24px\" viewBox=\"0 -960 960 960\">\n",
              "    <path d=\"M120-120v-720h720v720H120Zm60-500h600v-160H180v160Zm220 220h160v-160H400v160Zm0 220h160v-160H400v160ZM180-400h160v-160H180v160Zm440 0h160v-160H620v160ZM180-180h160v-160H180v160Zm440 0h160v-160H620v160Z\"/>\n",
              "  </svg>\n",
              "    </button>\n",
              "\n",
              "  <style>\n",
              "    .colab-df-container {\n",
              "      display:flex;\n",
              "      gap: 12px;\n",
              "    }\n",
              "\n",
              "    .colab-df-convert {\n",
              "      background-color: #E8F0FE;\n",
              "      border: none;\n",
              "      border-radius: 50%;\n",
              "      cursor: pointer;\n",
              "      display: none;\n",
              "      fill: #1967D2;\n",
              "      height: 32px;\n",
              "      padding: 0 0 0 0;\n",
              "      width: 32px;\n",
              "    }\n",
              "\n",
              "    .colab-df-convert:hover {\n",
              "      background-color: #E2EBFA;\n",
              "      box-shadow: 0px 1px 2px rgba(60, 64, 67, 0.3), 0px 1px 3px 1px rgba(60, 64, 67, 0.15);\n",
              "      fill: #174EA6;\n",
              "    }\n",
              "\n",
              "    .colab-df-buttons div {\n",
              "      margin-bottom: 4px;\n",
              "    }\n",
              "\n",
              "    [theme=dark] .colab-df-convert {\n",
              "      background-color: #3B4455;\n",
              "      fill: #D2E3FC;\n",
              "    }\n",
              "\n",
              "    [theme=dark] .colab-df-convert:hover {\n",
              "      background-color: #434B5C;\n",
              "      box-shadow: 0px 1px 3px 1px rgba(0, 0, 0, 0.15);\n",
              "      filter: drop-shadow(0px 1px 2px rgba(0, 0, 0, 0.3));\n",
              "      fill: #FFFFFF;\n",
              "    }\n",
              "  </style>\n",
              "\n",
              "    <script>\n",
              "      const buttonEl =\n",
              "        document.querySelector('#df-0c3a7f28-8ff4-418c-876e-3096c4cc2e92 button.colab-df-convert');\n",
              "      buttonEl.style.display =\n",
              "        google.colab.kernel.accessAllowed ? 'block' : 'none';\n",
              "\n",
              "      async function convertToInteractive(key) {\n",
              "        const element = document.querySelector('#df-0c3a7f28-8ff4-418c-876e-3096c4cc2e92');\n",
              "        const dataTable =\n",
              "          await google.colab.kernel.invokeFunction('convertToInteractive',\n",
              "                                                    [key], {});\n",
              "        if (!dataTable) return;\n",
              "\n",
              "        const docLinkHtml = 'Like what you see? Visit the ' +\n",
              "          '<a target=\"_blank\" href=https://colab.research.google.com/notebooks/data_table.ipynb>data table notebook</a>'\n",
              "          + ' to learn more about interactive tables.';\n",
              "        element.innerHTML = '';\n",
              "        dataTable['output_type'] = 'display_data';\n",
              "        await google.colab.output.renderOutput(dataTable, element);\n",
              "        const docLink = document.createElement('div');\n",
              "        docLink.innerHTML = docLinkHtml;\n",
              "        element.appendChild(docLink);\n",
              "      }\n",
              "    </script>\n",
              "  </div>\n",
              "\n",
              "\n",
              "<div id=\"df-c2ddeb3a-c44b-405b-8aaf-817c600e4b11\">\n",
              "  <button class=\"colab-df-quickchart\" onclick=\"quickchart('df-c2ddeb3a-c44b-405b-8aaf-817c600e4b11')\"\n",
              "            title=\"Suggest charts\"\n",
              "            style=\"display:none;\">\n",
              "\n",
              "<svg xmlns=\"http://www.w3.org/2000/svg\" height=\"24px\"viewBox=\"0 0 24 24\"\n",
              "     width=\"24px\">\n",
              "    <g>\n",
              "        <path d=\"M19 3H5c-1.1 0-2 .9-2 2v14c0 1.1.9 2 2 2h14c1.1 0 2-.9 2-2V5c0-1.1-.9-2-2-2zM9 17H7v-7h2v7zm4 0h-2V7h2v10zm4 0h-2v-4h2v4z\"/>\n",
              "    </g>\n",
              "</svg>\n",
              "  </button>\n",
              "\n",
              "<style>\n",
              "  .colab-df-quickchart {\n",
              "      --bg-color: #E8F0FE;\n",
              "      --fill-color: #1967D2;\n",
              "      --hover-bg-color: #E2EBFA;\n",
              "      --hover-fill-color: #174EA6;\n",
              "      --disabled-fill-color: #AAA;\n",
              "      --disabled-bg-color: #DDD;\n",
              "  }\n",
              "\n",
              "  [theme=dark] .colab-df-quickchart {\n",
              "      --bg-color: #3B4455;\n",
              "      --fill-color: #D2E3FC;\n",
              "      --hover-bg-color: #434B5C;\n",
              "      --hover-fill-color: #FFFFFF;\n",
              "      --disabled-bg-color: #3B4455;\n",
              "      --disabled-fill-color: #666;\n",
              "  }\n",
              "\n",
              "  .colab-df-quickchart {\n",
              "    background-color: var(--bg-color);\n",
              "    border: none;\n",
              "    border-radius: 50%;\n",
              "    cursor: pointer;\n",
              "    display: none;\n",
              "    fill: var(--fill-color);\n",
              "    height: 32px;\n",
              "    padding: 0;\n",
              "    width: 32px;\n",
              "  }\n",
              "\n",
              "  .colab-df-quickchart:hover {\n",
              "    background-color: var(--hover-bg-color);\n",
              "    box-shadow: 0 1px 2px rgba(60, 64, 67, 0.3), 0 1px 3px 1px rgba(60, 64, 67, 0.15);\n",
              "    fill: var(--button-hover-fill-color);\n",
              "  }\n",
              "\n",
              "  .colab-df-quickchart-complete:disabled,\n",
              "  .colab-df-quickchart-complete:disabled:hover {\n",
              "    background-color: var(--disabled-bg-color);\n",
              "    fill: var(--disabled-fill-color);\n",
              "    box-shadow: none;\n",
              "  }\n",
              "\n",
              "  .colab-df-spinner {\n",
              "    border: 2px solid var(--fill-color);\n",
              "    border-color: transparent;\n",
              "    border-bottom-color: var(--fill-color);\n",
              "    animation:\n",
              "      spin 1s steps(1) infinite;\n",
              "  }\n",
              "\n",
              "  @keyframes spin {\n",
              "    0% {\n",
              "      border-color: transparent;\n",
              "      border-bottom-color: var(--fill-color);\n",
              "      border-left-color: var(--fill-color);\n",
              "    }\n",
              "    20% {\n",
              "      border-color: transparent;\n",
              "      border-left-color: var(--fill-color);\n",
              "      border-top-color: var(--fill-color);\n",
              "    }\n",
              "    30% {\n",
              "      border-color: transparent;\n",
              "      border-left-color: var(--fill-color);\n",
              "      border-top-color: var(--fill-color);\n",
              "      border-right-color: var(--fill-color);\n",
              "    }\n",
              "    40% {\n",
              "      border-color: transparent;\n",
              "      border-right-color: var(--fill-color);\n",
              "      border-top-color: var(--fill-color);\n",
              "    }\n",
              "    60% {\n",
              "      border-color: transparent;\n",
              "      border-right-color: var(--fill-color);\n",
              "    }\n",
              "    80% {\n",
              "      border-color: transparent;\n",
              "      border-right-color: var(--fill-color);\n",
              "      border-bottom-color: var(--fill-color);\n",
              "    }\n",
              "    90% {\n",
              "      border-color: transparent;\n",
              "      border-bottom-color: var(--fill-color);\n",
              "    }\n",
              "  }\n",
              "</style>\n",
              "\n",
              "  <script>\n",
              "    async function quickchart(key) {\n",
              "      const quickchartButtonEl =\n",
              "        document.querySelector('#' + key + ' button');\n",
              "      quickchartButtonEl.disabled = true;  // To prevent multiple clicks.\n",
              "      quickchartButtonEl.classList.add('colab-df-spinner');\n",
              "      try {\n",
              "        const charts = await google.colab.kernel.invokeFunction(\n",
              "            'suggestCharts', [key], {});\n",
              "      } catch (error) {\n",
              "        console.error('Error during call to suggestCharts:', error);\n",
              "      }\n",
              "      quickchartButtonEl.classList.remove('colab-df-spinner');\n",
              "      quickchartButtonEl.classList.add('colab-df-quickchart-complete');\n",
              "    }\n",
              "    (() => {\n",
              "      let quickchartButtonEl =\n",
              "        document.querySelector('#df-c2ddeb3a-c44b-405b-8aaf-817c600e4b11 button');\n",
              "      quickchartButtonEl.style.display =\n",
              "        google.colab.kernel.accessAllowed ? 'block' : 'none';\n",
              "    })();\n",
              "  </script>\n",
              "</div>\n",
              "\n",
              "  <div id=\"id_3aa6ec74-857a-4ae6-a702-75235f3aa7bf\">\n",
              "    <style>\n",
              "      .colab-df-generate {\n",
              "        background-color: #E8F0FE;\n",
              "        border: none;\n",
              "        border-radius: 50%;\n",
              "        cursor: pointer;\n",
              "        display: none;\n",
              "        fill: #1967D2;\n",
              "        height: 32px;\n",
              "        padding: 0 0 0 0;\n",
              "        width: 32px;\n",
              "      }\n",
              "\n",
              "      .colab-df-generate:hover {\n",
              "        background-color: #E2EBFA;\n",
              "        box-shadow: 0px 1px 2px rgba(60, 64, 67, 0.3), 0px 1px 3px 1px rgba(60, 64, 67, 0.15);\n",
              "        fill: #174EA6;\n",
              "      }\n",
              "\n",
              "      [theme=dark] .colab-df-generate {\n",
              "        background-color: #3B4455;\n",
              "        fill: #D2E3FC;\n",
              "      }\n",
              "\n",
              "      [theme=dark] .colab-df-generate:hover {\n",
              "        background-color: #434B5C;\n",
              "        box-shadow: 0px 1px 3px 1px rgba(0, 0, 0, 0.15);\n",
              "        filter: drop-shadow(0px 1px 2px rgba(0, 0, 0, 0.3));\n",
              "        fill: #FFFFFF;\n",
              "      }\n",
              "    </style>\n",
              "    <button class=\"colab-df-generate\" onclick=\"generateWithVariable('results_df')\"\n",
              "            title=\"Generate code using this dataframe.\"\n",
              "            style=\"display:none;\">\n",
              "\n",
              "  <svg xmlns=\"http://www.w3.org/2000/svg\" height=\"24px\"viewBox=\"0 0 24 24\"\n",
              "       width=\"24px\">\n",
              "    <path d=\"M7,19H8.4L18.45,9,17,7.55,7,17.6ZM5,21V16.75L18.45,3.32a2,2,0,0,1,2.83,0l1.4,1.43a1.91,1.91,0,0,1,.58,1.4,1.91,1.91,0,0,1-.58,1.4L9.25,21ZM18.45,9,17,7.55Zm-12,3A5.31,5.31,0,0,0,4.9,8.1,5.31,5.31,0,0,0,1,6.5,5.31,5.31,0,0,0,4.9,4.9,5.31,5.31,0,0,0,6.5,1,5.31,5.31,0,0,0,8.1,4.9,5.31,5.31,0,0,0,12,6.5,5.46,5.46,0,0,0,6.5,12Z\"/>\n",
              "  </svg>\n",
              "    </button>\n",
              "    <script>\n",
              "      (() => {\n",
              "      const buttonEl =\n",
              "        document.querySelector('#id_3aa6ec74-857a-4ae6-a702-75235f3aa7bf button.colab-df-generate');\n",
              "      buttonEl.style.display =\n",
              "        google.colab.kernel.accessAllowed ? 'block' : 'none';\n",
              "\n",
              "      buttonEl.onclick = () => {\n",
              "        google.colab.notebook.generateWithVariable('results_df');\n",
              "      }\n",
              "      })();\n",
              "    </script>\n",
              "  </div>\n",
              "\n",
              "    </div>\n",
              "  </div>\n"
            ],
            "application/vnd.google.colaboratory.intrinsic+json": {
              "type": "dataframe",
              "variable_name": "results_df",
              "summary": "{\n  \"name\": \"results_df\",\n  \"rows\": 3,\n  \"fields\": [\n    {\n      \"column\": \"MSE\",\n      \"properties\": {\n        \"dtype\": \"number\",\n        \"std\": 0.010066027278395036,\n        \"min\": 0.5558512007367512,\n        \"max\": 0.5732860714133058,\n        \"num_unique_values\": 3,\n        \"samples\": [\n          0.5558512007367512,\n          0.5732860714133058,\n          0.5558512007367514\n        ],\n        \"semantic_type\": \"\",\n        \"description\": \"\"\n      }\n    },\n    {\n      \"column\": \"R2\",\n      \"properties\": {\n        \"dtype\": \"number\",\n        \"std\": 0.007681592117834609,\n        \"min\": 0.562513626713022,\n        \"max\": 0.5758185345441322,\n        \"num_unique_values\": 3,\n        \"samples\": [\n          0.5758185345441322,\n          0.562513626713022,\n          0.575818534544132\n        ],\n        \"semantic_type\": \"\",\n        \"description\": \"\"\n      }\n    }\n  ]\n}"
            }
          },
          "metadata": {}
        }
      ]
    },
    {
      "cell_type": "code",
      "source": [],
      "metadata": {
        "id": "3Zel1wh71sWN"
      },
      "execution_count": null,
      "outputs": []
    },
    {
      "cell_type": "code",
      "source": [
        "import matplotlib.pyplot as plt\n",
        "\n",
        "# Prepare data for plotting\n",
        "models = results_df.index.tolist()\n",
        "mse_values = results_df[\"MSE\"].tolist()\n",
        "r2_values = results_df[\"R2\"].tolist()\n",
        "\n",
        "# Plot\n",
        "plt.figure(figsize=(12, 5))\n",
        "\n",
        "# MSE Plot\n",
        "plt.subplot(1, 2, 1)\n",
        "plt.bar(models, mse_values, color=['#003057', '#0099D8', '#888'])\n",
        "plt.title(\"Mean Squared Error (MSE)\")\n",
        "plt.ylabel(\"Error\")\n",
        "plt.grid(axis='y', linestyle='--')\n",
        "\n",
        "# R2 Plot\n",
        "plt.subplot(1, 2, 2)\n",
        "plt.bar(models, r2_values, color=['#003057', '#0099D8', '#888'])\n",
        "plt.title(\"R² Score\")\n",
        "plt.ylabel(\"Score\")\n",
        "plt.grid(axis='y', linestyle='--')\n",
        "\n",
        "plt.suptitle(\"📊 Ridge Regression Model Evaluation\", fontsize=16)\n",
        "plt.tight_layout()\n",
        "plt.show()\n"
      ],
      "metadata": {
        "colab": {
          "base_uri": "https://localhost:8080/",
          "height": 583
        },
        "id": "I5Viu-urhFTn",
        "outputId": "81707904-d3a6-4d31-e026-41008eab1a4c"
      },
      "execution_count": 8,
      "outputs": [
        {
          "output_type": "stream",
          "name": "stderr",
          "text": [
            "<ipython-input-8-6caa8de0c0c0>:26: UserWarning: Glyph 128202 (\\N{BAR CHART}) missing from font(s) DejaVu Sans.\n",
            "  plt.tight_layout()\n",
            "/usr/local/lib/python3.11/dist-packages/IPython/core/pylabtools.py:151: UserWarning: Glyph 128202 (\\N{BAR CHART}) missing from font(s) DejaVu Sans.\n",
            "  fig.canvas.print_figure(bytes_io, **kw)\n"
          ]
        },
        {
          "output_type": "display_data",
          "data": {
            "text/plain": [
              "<Figure size 1200x500 with 2 Axes>"
            ],
            "image/png": "[encoded data removed]"
          },
          "metadata": {}
        }
      ]
    },
    {
      "cell_type": "markdown",
      "source": [
        "Explanation and Discussion\n",
        "\n",
        "We evaluated the performance of three Ridge Regression models using Mean Squared Error (MSE) and R² score.\n",
        "\n",
        "*   The Closed-Form solution and Scikit-Learn Ridge both achieved identical\n",
        "results (MSE = 0.55585, R² = 0.5758), indicating our manual implementation matches the industry-standard library's output.\n",
        "\n",
        "*  The Gradient Descent approach gave a slightly higher error (MSE = 0.5733) and a lower R² score (0.5625). This is expected due to possible suboptimal convergence within the limited iterations.\n",
        "\n",
        "Plotting both MSE and R² provides a visual confirmation that our closed-form implementation is on par with scikit-learn and that gradient descent is close in performance but may benefit from tuning (e.g., more iterations or better learning rate)."
      ],
      "metadata": {
        "id": "dKfLsNhVinU9"
      }
    },
    {
      "cell_type": "markdown",
      "source": [
        "# **Section 3 Hyperparameter Experimentation**"
      ],
      "metadata": {
        "id": "RXqxBKSQjhPg"
      }
    },
    {
      "cell_type": "markdown",
      "source": [
        "Varying Lambda (Regularization Strength)"
      ],
      "metadata": {
        "id": "GawrOJTOj58G"
      }
    },
    {
      "cell_type": "code",
      "source": [
        "lambdas = [0.1, 1.0, 10.0]\n",
        "mse_vals, r2_vals = [], []\n",
        "\n",
        "for l in lambdas:\n",
        "    w = ridge_closed_form(X_train, y_train, l)\n",
        "    preds = predict(X_test, w)\n",
        "    mse_vals.append(mean_squared_error(y_test, preds))\n",
        "    r2_vals.append(r2_score(y_test, preds))\n",
        "\n",
        "# Plot\n",
        "plt.figure(figsize=(12, 5))\n",
        "\n",
        "plt.subplot(1, 2, 1)\n",
        "plt.plot(lambdas, mse_vals, marker='o')\n",
        "plt.title(\"MSE vs Lambda\")\n",
        "plt.xlabel(\"Lambda\")\n",
        "plt.xscale(\"log\")\n",
        "\n",
        "plt.subplot(1, 2, 2)\n",
        "plt.plot(lambdas, r2_vals, marker='o', color='green')\n",
        "plt.title(\"R2 Score vs Lambda\")\n",
        "plt.xlabel(\"Lambda\")\n",
        "plt.xscale(\"log\")\n",
        "plt.tight_layout()\n",
        "plt.show()\n"
      ],
      "metadata": {
        "colab": {
          "base_uri": "https://localhost:8080/",
          "height": 506
        },
        "id": "M-leesebionC",
        "outputId": "94d1160d-6a96-47a5-cd7a-bf06094da7b5"
      },
      "execution_count": 9,
      "outputs": [
        {
          "output_type": "display_data",
          "data": {
            "text/plain": [
              "<Figure size 1200x500 with 2 Axes>"
            ],
            "image/png": "[encoded data removed]"
          },
          "metadata": {}
        }
      ]
    },
    {
      "cell_type": "markdown",
      "source": [
        "We test the impact of different lambda values on model performance. Regularization strength helps prevent overfitting and controls variance.\n",
        "\n",
        "\n",
        "As lambda increases, MSE slightly decreases and R² slightly increases, indicating a slight improvement in model performance with stronger regularization.\n",
        "\n",
        "The changes are subtle, suggesting the model is already well-regularized.\n",
        "\n",
        "Regularization helps reduce model variance and prevents overfitting by shrinking coefficients.\n",
        "\n",
        "Left Plot - Shows how MSE decreases with higher lambda values.\n",
        "\n",
        "Right Plot - Shows how R² increases, indicating better explanatory power of the model.\n",
        "\n"
      ],
      "metadata": {
        "id": "kz380dE-kNxY"
      }
    },
    {
      "cell_type": "markdown",
      "source": [
        "# **Varying Learning Rate (Gradient Descent Convergence)**"
      ],
      "metadata": {
        "id": "lJxOp-1WkB2E"
      }
    },
    {
      "cell_type": "code",
      "source": [
        "lrs = [0.001, 0.01, 0.1]\n",
        "plt.figure(figsize=(8, 6))\n",
        "\n",
        "for lr in lrs:\n",
        "    _, loss = ridge_gradient_descent(X_train, y_train, lambda_=1.0, lr=lr)\n",
        "    plt.plot(loss, label=f\"lr={lr}\")\n",
        "\n",
        "plt.title(\"Loss over Iterations (Gradient Descent)\")\n",
        "plt.xlabel(\"Iterations\")\n",
        "plt.ylabel(\"Loss (MSE)\")\n",
        "plt.legend()\n",
        "plt.grid(True)\n",
        "plt.show()\n"
      ],
      "metadata": {
        "colab": {
          "base_uri": "https://localhost:8080/",
          "height": 564
        },
        "id": "sUR2HE9IkDuO",
        "outputId": "b45e75c3-6620-4dad-9cd4-12ddf527d459"
      },
      "execution_count": 10,
      "outputs": [
        {
          "output_type": "display_data",
          "data": {
            "text/plain": [
              "<Figure size 800x600 with 1 Axes>"
            ],
            "image/png": "[encoded data removed]"
          },
          "metadata": {}
        }
      ]
    },
    {
      "cell_type": "markdown",
      "source": [
        "Learning Rates Tested\n",
        "\n",
        "0.001 (Blue) – slow convergence\n",
        "\n",
        "0.01 (Orange) – fast and stable convergence\n",
        "\n",
        "0.1 (Green) – fastest convergence, but risk of overshooting if increased further\n",
        "\n",
        "**Explanation**\n",
        "\n",
        "Lower learning rates take longer to reach minimum loss but are more stable.\n",
        "\n",
        "A learning rate of 0.01 achieves a good balance between speed and convergence stability.\n",
        "\n",
        "Higher learning rates like 0.1 converge very fast but can be unstable for other datasets.\n",
        "\n",
        "Plot - Demonstrates how MSE loss decreases over iterations for each learning rate, clearly showing the effect of the learning rate on convergence behavior."
      ],
      "metadata": {
        "id": "p3d4xJc8lNhH"
      }
    },
    {
      "cell_type": "markdown",
      "source": [
        "# Section 4"
      ],
      "metadata": {
        "id": "zKXxQJAtnB5i"
      }
    },
    {
      "cell_type": "markdown",
      "source": [
        "# **1. Interactive Visualization with Plotly**"
      ],
      "metadata": {
        "id": "V4FY8IIGnT-L"
      }
    },
    {
      "cell_type": "markdown",
      "source": [
        "Here what i did\n",
        "\n",
        "Load Ridge regression results (lambda vs MSE and R²).\n",
        "\n",
        "Create an interactive Plotly scatter plot for both metrics.\n",
        "\n",
        "Add dropdowns or hover info for dynamic interaction.\n",
        "\n"
      ],
      "metadata": {
        "id": "zB981M3Jni3n"
      }
    },
    {
      "cell_type": "code",
      "source": [
        "import plotly.graph_objects as go\n",
        "import pandas as pd\n",
        "\n",
        "# Simulated results - replace with your real values if available\n",
        "ridge_data = {\n",
        "    \"Lambda\": [0.1, 1.0, 10.0],\n",
        "    \"MSE\": [0.55589, 0.55585, 0.55551],\n",
        "    \"R2\": [0.57579, 0.57582, 0.57609]\n",
        "}\n",
        "df_ridge = pd.DataFrame(ridge_data)\n",
        "\n",
        "# Create interactive plot\n",
        "fig = go.Figure()\n",
        "\n",
        "fig.add_trace(go.Scatter(\n",
        "    x=df_ridge[\"Lambda\"], y=df_ridge[\"MSE\"],\n",
        "    mode='lines+markers',\n",
        "    name='MSE',\n",
        "    marker=dict(size=10),\n",
        "    line=dict(color='blue')\n",
        "))\n",
        "\n",
        "fig.add_trace(go.Scatter(\n",
        "    x=df_ridge[\"Lambda\"], y=df_ridge[\"R2\"],\n",
        "    mode='lines+markers',\n",
        "    name='R² Score',\n",
        "    marker=dict(size=10),\n",
        "    line=dict(color='green')\n",
        "))\n",
        "\n",
        "fig.update_layout(\n",
        "    title=\"Lambda vs MSE and R² (Ridge Regression)\",\n",
        "    xaxis=dict(title=\"Lambda\", type='log'),\n",
        "    yaxis=dict(title=\"Performance Metric\"),\n",
        "    legend=dict(x=0.02, y=0.98),\n",
        "    hovermode=\"x unified\"\n",
        ")\n",
        "\n",
        "fig.show()\n"
      ],
      "metadata": {
        "colab": {
          "base_uri": "https://localhost:8080/",
          "height": 542
        },
        "id": "wstmoe37nG-V",
        "outputId": "784b9c50-ae0a-41ed-a361-606ba6b22593"
      },
      "execution_count": 11,
      "outputs": [
        {
          "output_type": "display_data",
          "data": {
            "text/html": [
              "<html>\n",
              "<head><meta charset=\"utf-8\" /></head>\n",
              "<body>\n",
              "    <div>            <script src=\"https://cdnjs.cloudflare.com/ajax/libs/mathjax/2.7.5/MathJax.js?config=TeX-AMS-MML_SVG\"></script><script type=\"text/javascript\">if (window.MathJax && window.MathJax.Hub && window.MathJax.Hub.Config) {window.MathJax.Hub.Config({SVG: {font: \"STIX-Web\"}});}</script>                <script type=\"text/javascript\">window.PlotlyConfig = {MathJaxConfig: 'local'};</script>\n",
              "        <script charset=\"utf-8\" src=\"https://cdn.plot.ly/plotly-2.35.2.min.js\"></script>                <div id=\"b8056b54-84bf-4458-8b7e-7ab0483e038c\" class=\"plotly-graph-div\" style=\"height:525px; width:100%;\"></div>            <script type=\"text/javascript\">                                    window.PLOTLYENV=window.PLOTLYENV || {};                                    if (document.getElementById(\"b8056b54-84bf-4458-8b7e-7ab0483e038c\")) {                    Plotly.newPlot(                        \"b8056b54-84bf-4458-8b7e-7ab0483e038c\",                        [{\"line\":{\"color\":\"blue\"},\"marker\":{\"size\":10},\"mode\":\"lines+markers\",\"name\":\"MSE\",\"x\":[0.1,1.0,10.0],\"y\":[0.55589,0.55585,0.55551],\"type\":\"scatter\"},{\"line\":{\"color\":\"green\"},\"marker\":{\"size\":10},\"mode\":\"lines+markers\",\"name\":\"R² Score\",\"x\":[0.1,1.0,10.0],\"y\":[0.57579,0.57582,0.57609],\"type\":\"scatter\"}],                        {\"template\":{\"data\":{\"histogram2dcontour\":[{\"type\":\"histogram2dcontour\",\"colorbar\":{\"outlinewidth\":0,\"ticks\":\"\"},\"colorscale\":[[0.0,\"#0d0887\"],[0.1111111111111111,\"#46039f\"],[0.2222222222222222,\"#7201a8\"],[0.3333333333333333,\"#9c179e\"],[0.4444444444444444,\"#bd3786\"],[0.5555555555555556,\"#d8576b\"],[0.6666666666666666,\"#ed7953\"],[0.7777777777777778,\"#fb9f3a\"],[0.8888888888888888,\"#fdca26\"],[1.0,\"#f0f921\"]]}],\"choropleth\":[{\"type\":\"choropleth\",\"colorbar\":{\"outlinewidth\":0,\"ticks\":\"\"}}],\"histogram2d\":[{\"type\":\"histogram2d\",\"colorbar\":{\"outlinewidth\":0,\"ticks\":\"\"},\"colorscale\":[[0.0,\"#0d0887\"],[0.1111111111111111,\"#46039f\"],[0.2222222222222222,\"#7201a8\"],[0.3333333333333333,\"#9c179e\"],[0.4444444444444444,\"#bd3786\"],[0.5555555555555556,\"#d8576b\"],[0.6666666666666666,\"#ed7953\"],[0.7777777777777778,\"#fb9f3a\"],[0.8888888888888888,\"#fdca26\"],[1.0,\"#f0f921\"]]}],\"heatmap\":[{\"type\":\"heatmap\",\"colorbar\":{\"outlinewidth\":0,\"ticks\":\"\"},\"colorscale\":[[0.0,\"#0d0887\"],[0.1111111111111111,\"#46039f\"],[0.2222222222222222,\"#7201a8\"],[0.3333333333333333,\"#9c179e\"],[0.4444444444444444,\"#bd3786\"],[0.5555555555555556,\"#d8576b\"],[0.6666666666666666,\"#ed7953\"],[0.7777777777777778,\"#fb9f3a\"],[0.8888888888888888,\"#fdca26\"],[1.0,\"#f0f921\"]]}],\"heatmapgl\":[{\"type\":\"heatmapgl\",\"colorbar\":{\"outlinewidth\":0,\"ticks\":\"\"},\"colorscale\":[[0.0,\"#0d0887\"],[0.1111111111111111,\"#46039f\"],[0.2222222222222222,\"#7201a8\"],[0.3333333333333333,\"#9c179e\"],[0.4444444444444444,\"#bd3786\"],[0.5555555555555556,\"#d8576b\"],[0.6666666666666666,\"#ed7953\"],[0.7777777777777778,\"#fb9f3a\"],[0.8888888888888888,\"#fdca26\"],[1.0,\"#f0f921\"]]}],\"contourcarpet\":[{\"type\":\"contourcarpet\",\"colorbar\":{\"outlinewidth\":0,\"ticks\":\"\"}}],\"contour\":[{\"type\":\"contour\",\"colorbar\":{\"outlinewidth\":0,\"ticks\":\"\"},\"colorscale\":[[0.0,\"#0d0887\"],[0.1111111111111111,\"#46039f\"],[0.2222222222222222,\"#7201a8\"],[0.3333333333333333,\"#9c179e\"],[0.4444444444444444,\"#bd3786\"],[0.5555555555555556,\"#d8576b\"],[0.6666666666666666,\"#ed7953\"],[0.7777777777777778,\"#fb9f3a\"],[0.8888888888888888,\"#fdca26\"],[1.0,\"#f0f921\"]]}],\"surface\":[{\"type\":\"surface\",\"colorbar\":{\"outlinewidth\":0,\"ticks\":\"\"},\"colorscale\":[[0.0,\"#0d0887\"],[0.1111111111111111,\"#46039f\"],[0.2222222222222222,\"#7201a8\"],[0.3333333333333333,\"#9c179e\"],[0.4444444444444444,\"#bd3786\"],[0.5555555555555556,\"#d8576b\"],[0.6666666666666666,\"#ed7953\"],[0.7777777777777778,\"#fb9f3a\"],[0.8888888888888888,\"#fdca26\"],[1.0,\"#f0f921\"]]}],\"mesh3d\":[{\"type\":\"mesh3d\",\"colorbar\":{\"outlinewidth\":0,\"ticks\":\"\"}}],\"scatter\":[{\"fillpattern\":{\"fillmode\":\"overlay\",\"size\":10,\"solidity\":0.2},\"type\":\"scatter\"}],\"parcoords\":[{\"type\":\"parcoords\",\"line\":{\"colorbar\":{\"outlinewidth\":0,\"ticks\":\"\"}}}],\"scatterpolargl\":[{\"type\":\"scatterpolargl\",\"marker\":{\"colorbar\":{\"outlinewidth\":0,\"ticks\":\"\"}}}],\"bar\":[{\"error_x\":{\"color\":\"#2a3f5f\"},\"error_y\":{\"color\":\"#2a3f5f\"},\"marker\":{\"line\":{\"color\":\"#E5ECF6\",\"width\":0.5},\"pattern\":{\"fillmode\":\"overlay\",\"size\":10,\"solidity\":0.2}},\"type\":\"bar\"}],\"scattergeo\":[{\"type\":\"scattergeo\",\"marker\":{\"colorbar\":{\"outlinewidth\":0,\"ticks\":\"\"}}}],\"scatterpolar\":[{\"type\":\"scatterpolar\",\"marker\":{\"colorbar\":{\"outlinewidth\":0,\"ticks\":\"\"}}}],\"histogram\":[{\"marker\":{\"pattern\":{\"fillmode\":\"overlay\",\"size\":10,\"solidity\":0.2}},\"type\":\"histogram\"}],\"scattergl\":[{\"type\":\"scattergl\",\"marker\":{\"colorbar\":{\"outlinewidth\":0,\"ticks\":\"\"}}}],\"scatter3d\":[{\"type\":\"scatter3d\",\"line\":{\"colorbar\":{\"outlinewidth\":0,\"ticks\":\"\"}},\"marker\":{\"colorbar\":{\"outlinewidth\":0,\"ticks\":\"\"}}}],\"scattermapbox\":[{\"type\":\"scattermapbox\",\"marker\":{\"colorbar\":{\"outlinewidth\":0,\"ticks\":\"\"}}}],\"scatterternary\":[{\"type\":\"scatterternary\",\"marker\":{\"colorbar\":{\"outlinewidth\":0,\"ticks\":\"\"}}}],\"scattercarpet\":[{\"type\":\"scattercarpet\",\"marker\":{\"colorbar\":{\"outlinewidth\":0,\"ticks\":\"\"}}}],\"carpet\":[{\"aaxis\":{\"endlinecolor\":\"#2a3f5f\",\"gridcolor\":\"white\",\"linecolor\":\"white\",\"minorgridcolor\":\"white\",\"startlinecolor\":\"#2a3f5f\"},\"baxis\":{\"endlinecolor\":\"#2a3f5f\",\"gridcolor\":\"white\",\"linecolor\":\"white\",\"minorgridcolor\":\"white\",\"startlinecolor\":\"#2a3f5f\"},\"type\":\"carpet\"}],\"table\":[{\"cells\":{\"fill\":{\"color\":\"#EBF0F8\"},\"line\":{\"color\":\"white\"}},\"header\":{\"fill\":{\"color\":\"#C8D4E3\"},\"line\":{\"color\":\"white\"}},\"type\":\"table\"}],\"barpolar\":[{\"marker\":{\"line\":{\"color\":\"#E5ECF6\",\"width\":0.5},\"pattern\":{\"fillmode\":\"overlay\",\"size\":10,\"solidity\":0.2}},\"type\":\"barpolar\"}],\"pie\":[{\"automargin\":true,\"type\":\"pie\"}]},\"layout\":{\"autotypenumbers\":\"strict\",\"colorway\":[\"#636efa\",\"#EF553B\",\"#00cc96\",\"#ab63fa\",\"#FFA15A\",\"#19d3f3\",\"#FF6692\",\"#B6E880\",\"#FF97FF\",\"#FECB52\"],\"font\":{\"color\":\"#2a3f5f\"},\"hovermode\":\"closest\",\"hoverlabel\":{\"align\":\"left\"},\"paper_bgcolor\":\"white\",\"plot_bgcolor\":\"#E5ECF6\",\"polar\":{\"bgcolor\":\"#E5ECF6\",\"angularaxis\":{\"gridcolor\":\"white\",\"linecolor\":\"white\",\"ticks\":\"\"},\"radialaxis\":{\"gridcolor\":\"white\",\"linecolor\":\"white\",\"ticks\":\"\"}},\"ternary\":{\"bgcolor\":\"#E5ECF6\",\"aaxis\":{\"gridcolor\":\"white\",\"linecolor\":\"white\",\"ticks\":\"\"},\"baxis\":{\"gridcolor\":\"white\",\"linecolor\":\"white\",\"ticks\":\"\"},\"caxis\":{\"gridcolor\":\"white\",\"linecolor\":\"white\",\"ticks\":\"\"}},\"coloraxis\":{\"colorbar\":{\"outlinewidth\":0,\"ticks\":\"\"}},\"colorscale\":{\"sequential\":[[0.0,\"#0d0887\"],[0.1111111111111111,\"#46039f\"],[0.2222222222222222,\"#7201a8\"],[0.3333333333333333,\"#9c179e\"],[0.4444444444444444,\"#bd3786\"],[0.5555555555555556,\"#d8576b\"],[0.6666666666666666,\"#ed7953\"],[0.7777777777777778,\"#fb9f3a\"],[0.8888888888888888,\"#fdca26\"],[1.0,\"#f0f921\"]],\"sequentialminus\":[[0.0,\"#0d0887\"],[0.1111111111111111,\"#46039f\"],[0.2222222222222222,\"#7201a8\"],[0.3333333333333333,\"#9c179e\"],[0.4444444444444444,\"#bd3786\"],[0.5555555555555556,\"#d8576b\"],[0.6666666666666666,\"#ed7953\"],[0.7777777777777778,\"#fb9f3a\"],[0.8888888888888888,\"#fdca26\"],[1.0,\"#f0f921\"]],\"diverging\":[[0,\"#8e0152\"],[0.1,\"#c51b7d\"],[0.2,\"#de77ae\"],[0.3,\"#f1b6da\"],[0.4,\"#fde0ef\"],[0.5,\"#f7f7f7\"],[0.6,\"#e6f5d0\"],[0.7,\"#b8e186\"],[0.8,\"#7fbc41\"],[0.9,\"#4d9221\"],[1,\"#276419\"]]},\"xaxis\":{\"gridcolor\":\"white\",\"linecolor\":\"white\",\"ticks\":\"\",\"title\":{\"standoff\":15},\"zerolinecolor\":\"white\",\"automargin\":true,\"zerolinewidth\":2},\"yaxis\":{\"gridcolor\":\"white\",\"linecolor\":\"white\",\"ticks\":\"\",\"title\":{\"standoff\":15},\"zerolinecolor\":\"white\",\"automargin\":true,\"zerolinewidth\":2},\"scene\":{\"xaxis\":{\"backgroundcolor\":\"#E5ECF6\",\"gridcolor\":\"white\",\"linecolor\":\"white\",\"showbackground\":true,\"ticks\":\"\",\"zerolinecolor\":\"white\",\"gridwidth\":2},\"yaxis\":{\"backgroundcolor\":\"#E5ECF6\",\"gridcolor\":\"white\",\"linecolor\":\"white\",\"showbackground\":true,\"ticks\":\"\",\"zerolinecolor\":\"white\",\"gridwidth\":2},\"zaxis\":{\"backgroundcolor\":\"#E5ECF6\",\"gridcolor\":\"white\",\"linecolor\":\"white\",\"showbackground\":true,\"ticks\":\"\",\"zerolinecolor\":\"white\",\"gridwidth\":2}},\"shapedefaults\":{\"line\":{\"color\":\"#2a3f5f\"}},\"annotationdefaults\":{\"arrowcolor\":\"#2a3f5f\",\"arrowhead\":0,\"arrowwidth\":1},\"geo\":{\"bgcolor\":\"white\",\"landcolor\":\"#E5ECF6\",\"subunitcolor\":\"white\",\"showland\":true,\"showlakes\":true,\"lakecolor\":\"white\"},\"title\":{\"x\":0.05},\"mapbox\":{\"style\":\"light\"}}},\"xaxis\":{\"title\":{\"text\":\"Lambda\"},\"type\":\"log\"},\"legend\":{\"x\":0.02,\"y\":0.98},\"title\":{\"text\":\"Lambda vs MSE and R² (Ridge Regression)\"},\"yaxis\":{\"title\":{\"text\":\"Performance Metric\"}},\"hovermode\":\"x unified\"},                        {\"responsive\": true}                    ).then(function(){\n",
              "                            \n",
              "var gd = document.getElementById('b8056b54-84bf-4458-8b7e-7ab0483e038c');\n",
              "var x = new MutationObserver(function (mutations, observer) {{\n",
              "        var display = window.getComputedStyle(gd).display;\n",
              "        if (!display || display === 'none') {{\n",
              "            console.log([gd, 'removed!']);\n",
              "            Plotly.purge(gd);\n",
              "            observer.disconnect();\n",
              "        }}\n",
              "}});\n",
              "\n",
              "// Listen for the removal of the full notebook cells\n",
              "var notebookContainer = gd.closest('#notebook-container');\n",
              "if (notebookContainer) {{\n",
              "    x.observe(notebookContainer, {childList: true});\n",
              "}}\n",
              "\n",
              "// Listen for the clearing of the current output cell\n",
              "var outputEl = gd.closest('.output');\n",
              "if (outputEl) {{\n",
              "    x.observe(outputEl, {childList: true});\n",
              "}}\n",
              "\n",
              "                        })                };                            </script>        </div>\n",
              "</body>\n",
              "</html>"
            ]
          },
          "metadata": {}
        }
      ]
    },
    {
      "cell_type": "markdown",
      "source": [
        "\n",
        "This graph visualizes how the performance of Ridge Regression changes as the regularization strength (lambda) varies. It plots two performance metrics:\n",
        "\n",
        "Mean Squared Error (MSE) – shown in blue\n",
        "\n",
        "R² Score – shown in green\n",
        "\n",
        "**Interpretation of the Lines**\n",
        "\n",
        "Blue Line – MSE (Mean Squared Error) -\n",
        "This measures the average squared difference between predicted and actual values.\n",
        "\n",
        "Lower is better.\n",
        "\n",
        "Across the lambdas [0.1, 1.0, 10.0], MSE slightly decreases, which suggests that stronger regularization slightly improves the model’s ability to generalize.\n",
        "\n",
        "\n",
        "Green Line – R² Score -\n",
        "This indicates the proportion of variance in the target variable explained by the model.\n",
        "\n",
        "Higher is better.\n",
        "\n",
        "The R² score is very stable, only slightly improving as lambda increases.\n",
        "\n",
        "This shows Ridge Regression is already capturing the structure of the data quite well, and further regularization has minimal additional effect.\n",
        "\n",
        " **Conclusion**\n",
        "\n",
        "Ridge Regression is quite stable with respect to lambda in your case.\n",
        "\n",
        "A slight improvement is seen in MSE as lambda increases, suggesting that a higher lambda (e.g., 10.0) may slightly reduce overfitting.\n",
        "\n",
        "Since R² is almost flat, the model's explanatory power isn't changing much — just getting slightly better at generalization without sacrificing accuracy."
      ],
      "metadata": {
        "id": "cmP29AlvnzIR"
      }
    },
    {
      "cell_type": "markdown",
      "source": [
        "# **2. Feature Engineering**"
      ],
      "metadata": {
        "id": "6YaUqpgPoNsC"
      }
    },
    {
      "cell_type": "markdown",
      "source": [
        "here i tried two approaches\n",
        "\n",
        "Polynomial Features – Introduce non-linear combinations of existing features.\n",
        "\n",
        "Correlation-Based Feature Selection – Drop features that are highly correlated (to reduce redundancy)."
      ],
      "metadata": {
        "id": "doCsKf54oqZ9"
      }
    },
    {
      "cell_type": "markdown",
      "source": [
        "Step 1 - Polynomial features\n"
      ],
      "metadata": {
        "id": "wdOWo0lQpV01"
      }
    },
    {
      "cell_type": "code",
      "source": [
        "from sklearn.preprocessing import PolynomialFeatures\n",
        "from sklearn.linear_model import Ridge\n",
        "from sklearn.metrics import mean_squared_error, r2_score\n",
        "\n",
        "# Create polynomial features (degree 2)\n",
        "poly = PolynomialFeatures(degree=2, include_bias=False)\n",
        "X_train_poly = poly.fit_transform(X_train)\n",
        "X_test_poly = poly.transform(X_test)\n",
        "\n",
        "# Train Ridge Regression on polynomial features\n",
        "ridge_poly = Ridge(alpha=1.0)\n",
        "ridge_poly.fit(X_train_poly, y_train)\n",
        "\n",
        "# Predict and evaluate\n",
        "y_pred_poly = ridge_poly.predict(X_test_poly)\n",
        "mse_poly = mean_squared_error(y_test, y_pred_poly)\n",
        "r2_poly = r2_score(y_test, y_pred_poly)\n",
        "\n",
        "print(\"With Polynomial Features:\")\n",
        "print(\"MSE:\", mse_poly)\n",
        "print(\"R² Score:\", r2_poly)\n"
      ],
      "metadata": {
        "colab": {
          "base_uri": "https://localhost:8080/"
        },
        "id": "A3sdVWoEnHBH",
        "outputId": "deaab8ba-f527-42a2-94b4-8c79b0a2f724"
      },
      "execution_count": 12,
      "outputs": [
        {
          "output_type": "stream",
          "name": "stdout",
          "text": [
            "With Polynomial Features:\n",
            "MSE: 0.4624311487785371\n",
            "R² Score: 0.6471092945354302\n"
          ]
        }
      ]
    },
    {
      "cell_type": "markdown",
      "source": [
        "Original Ridge Regression\n",
        "\n",
        "MSE ≈ 0.555\n",
        "\n",
        "R² Score ≈ 0.575\n",
        "\n",
        "With Polynomial Features\n",
        "\n",
        "MSE = 0.462\n",
        "\n",
        "R² Score = 0.647\n",
        "\n",
        " **Interpretation**\n",
        "\n",
        "MSE dropped significantly, which means your model is making smaller prediction errors.\n",
        "\n",
        "R² score increased, indicating better explanation of the variance in the target variable.\n",
        "\n",
        "Polynomial features captured useful non-linear patterns that the linear model missed before.\n",
        "\n"
      ],
      "metadata": {
        "id": "xmpN2PNppKZz"
      }
    },
    {
      "cell_type": "markdown",
      "source": [
        "Step 2 - Correlation-Based Feature Selection"
      ],
      "metadata": {
        "id": "npSdB1tzpaZN"
      }
    },
    {
      "cell_type": "code",
      "source": [
        "import seaborn as sns\n",
        "import matplotlib.pyplot as plt\n",
        "\n",
        "# Step 1: Calculate correlation matrix\n",
        "correlation_matrix = pd.DataFrame(X).corr().abs()\n",
        "\n",
        "# Step 2: Select upper triangle of correlation matrix\n",
        "upper = correlation_matrix.where(\n",
        "    np.triu(np.ones(correlation_matrix.shape), k=1).astype(bool))\n",
        "\n",
        "# Step 3: Find features with correlation > 0.9\n",
        "to_drop = [column for column in upper.columns if any(upper[column] > 0.9)]\n",
        "print(f\"Highly correlated features to drop: {to_drop}\")\n",
        "\n",
        "# Step 4: Drop these features from dataset\n",
        "X_reduced = pd.DataFrame(X).drop(columns=to_drop)\n",
        "\n",
        "# Step 5: Train Ridge Regression on reduced feature set\n",
        "from sklearn.linear_model import Ridge\n",
        "from sklearn.model_selection import train_test_split\n",
        "from sklearn.metrics import mean_squared_error, r2_score\n",
        "\n",
        "X_train_red, X_test_red, y_train_red, y_test_red = train_test_split(X_reduced, y, test_size=0.2, random_state=42)\n",
        "ridge_reduced = Ridge(alpha=1.0)\n",
        "ridge_reduced.fit(X_train_red, y_train_red)\n",
        "\n",
        "y_pred_red = ridge_reduced.predict(X_test_red)\n",
        "mse_red = mean_squared_error(y_test_red, y_pred_red)\n",
        "r2_red = r2_score(y_test_red, y_pred_red)\n",
        "\n",
        "print(\"After Correlation-based Feature Selection:\")\n",
        "print(f\"MSE: {mse_red}\")\n",
        "print(f\"R² Score: {r2_red}\")\n"
      ],
      "metadata": {
        "colab": {
          "base_uri": "https://localhost:8080/"
        },
        "id": "PkV_P-mVnHDz",
        "outputId": "1db6977e-06ee-43ef-c8ab-111224b60e30"
      },
      "execution_count": 13,
      "outputs": [
        {
          "output_type": "stream",
          "name": "stdout",
          "text": [
            "Highly correlated features to drop: ['Longitude']\n",
            "After Correlation-based Feature Selection:\n",
            "MSE: 0.6369170254174938\n",
            "R² Score: 0.513955539077201\n"
          ]
        }
      ]
    },
    {
      "cell_type": "markdown",
      "source": [
        "After applying correlation-based feature selection and dropping the 'Longitude' feature, the model's performance decreased\n",
        "\n",
        "MSE increased from 0.555 to 0.6369.\n",
        "\n",
        "R² Score decreased from 0.575 to 0.514.\n",
        "\n",
        "This suggests that 'Longitude' was a valuable feature for prediction, and removing it hurt model performance."
      ],
      "metadata": {
        "id": "k8pycBlDqYD_"
      }
    },
    {
      "cell_type": "markdown",
      "source": [
        "# **3. Alternative Regularization**"
      ],
      "metadata": {
        "id": "mFPsi-1TqwkR"
      }
    },
    {
      "cell_type": "markdown",
      "source": [
        "Implement Lasso regression using the L1 regularization term."
      ],
      "metadata": {
        "id": "jHblxb3YyEML"
      }
    },
    {
      "cell_type": "code",
      "source": [
        "import numpy as np\n",
        "\n",
        "def lasso_regression(X, y, lambda_value, num_iterations=1000, learning_rate=0.01):\n",
        "    m, n = X.shape\n",
        "    theta = np.zeros(n)\n",
        "\n",
        "    for _ in range(num_iterations):\n",
        "        # Prediction\n",
        "        y_pred = X.dot(theta)\n",
        "\n",
        "        # Cost Function with L1 regularization\n",
        "        cost = (1 / (2 * m)) * np.sum((y_pred - y) ** 2) + lambda_value * np.sum(np.abs(theta))\n",
        "\n",
        "        # Gradient Descent\n",
        "        gradient = (1 / m) * X.T.dot(y_pred - y) + lambda_value * np.sign(theta)\n",
        "\n",
        "        # Update the coefficients\n",
        "        theta -= learning_rate * gradient\n",
        "\n",
        "    return theta, cost\n",
        "\n",
        "# Fit the model\n",
        "theta_lasso, cost_lasso = lasso_regression(X_train, y_train, lambda_value=1.0)\n",
        "\n",
        "# Predictions and evaluation\n",
        "y_pred_lasso = X_test.dot(theta_lasso)\n",
        "mse_lasso = mean_squared_error(y_test, y_pred_lasso)\n",
        "r2_lasso = r2_score(y_test, y_pred_lasso)\n",
        "\n",
        "print(\"Lasso Regression:\")\n",
        "print(\"MSE:\", mse_lasso)\n",
        "print(\"R² Score:\", r2_lasso)\n"
      ],
      "metadata": {
        "colab": {
          "base_uri": "https://localhost:8080/"
        },
        "id": "7h5cce5GnHGl",
        "outputId": "fd71b6b7-fbe7-40e7-d2df-83ec44200e30"
      },
      "execution_count": 14,
      "outputs": [
        {
          "output_type": "stream",
          "name": "stdout",
          "text": [
            "Lasso Regression:\n",
            "MSE: 5.509849471084198\n",
            "R² Score: -3.2046792738559002\n"
          ]
        }
      ]
    },
    {
      "cell_type": "code",
      "source": [
        "# Ridge predictions and evaluation\n",
        "y_pred_ridge = ridge.predict(X_test)\n",
        "mse_ridge = mean_squared_error(y_test, y_pred_ridge)\n",
        "r2_ridge = r2_score(y_test, y_pred_ridge)\n",
        "\n",
        "print(\"Ridge Regression:\")\n",
        "print(\"MSE:\", mse_ridge)\n",
        "print(\"R² Score:\", r2_ridge)\n"
      ],
      "metadata": {
        "colab": {
          "base_uri": "https://localhost:8080/"
        },
        "id": "3OmI94S1yLMT",
        "outputId": "c9b6d3c9-299f-42a6-d3a4-8a28d17c6c67"
      },
      "execution_count": 21,
      "outputs": [
        {
          "output_type": "stream",
          "name": "stdout",
          "text": [
            "Ridge Regression:\n",
            "MSE: 0.5554993268848044\n",
            "R² Score: 0.5760870567061362\n"
          ]
        }
      ]
    },
    {
      "cell_type": "markdown",
      "source": [
        "The comparison shows that Ridge regression significantly outperforms Lasso regression in this case\n",
        "\n",
        "Ridge achieves an MSE of 0.556 and an R² score of 0.576 , indicating good predictive performance.\n",
        "\n",
        "Lasso, on the other hand, results in a much higher MSE (5.51 ) and a negative R² score (-3.20 ), suggesting poor generalization and worse-than-baseline performance.\n",
        "\n",
        "This discrepancy likely arises because Lasso's L1 regularization aggressively shrinks coefficients to zero, potentially removing important features in this dataset. Ridge's L2 regularization, which penalizes large coefficients without forcing them to zero, is better suited for datasets where all features contribute to the prediction.\n",
        "\n",
        "Conclusion - Ridge regression is more effective for this dataset, while Lasso may require further tuning or a sparser feature set to perform well."
      ],
      "metadata": {
        "id": "gCRzuXV9seAd"
      }
    },
    {
      "cell_type": "markdown",
      "source": [
        "# **4. Cross Validation**"
      ],
      "metadata": {
        "id": "X1TQGSBFsnqX"
      }
    },
    {
      "cell_type": "markdown",
      "source": [
        "Implementation of 5-Fold Cross-Validation to Select Optimal Lambda"
      ],
      "metadata": {
        "id": "Tl6mznEIstVn"
      }
    },
    {
      "cell_type": "code",
      "source": [
        "from sklearn.model_selection import KFold\n",
        "\n",
        "# Define Ridge regression function (reuse your closed-form implementation)\n",
        "def ridge_closed_form(X, y, lambda_):\n",
        "    X_b = np.c_[np.ones((X.shape[0], 1)), X]  # Add bias term\n",
        "    n_features = X_b.shape[1]\n",
        "    I = np.eye(n_features)\n",
        "    I[0, 0] = 0  # Do not regularize bias\n",
        "    w = np.linalg.inv(X_b.T @ X_b + lambda_ * I) @ X_b.T @ y\n",
        "    return w\n",
        "\n",
        "# Prediction function\n",
        "def predict(X, w):\n",
        "    X_b = np.c_[np.ones((X.shape[0], 1)), X]\n",
        "    return X_b @ w\n",
        "\n",
        "# 5-Fold Cross-Validation\n",
        "def cross_validate_ridge(X, y, lambdas, k_folds=5):\n",
        "    kf = KFold(n_splits=k_folds, shuffle=True, random_state=42)\n",
        "    best_lambda = None\n",
        "    best_mse = float('inf')\n",
        "\n",
        "    for lambd in lambdas:\n",
        "        mse_scores = []\n",
        "        for train_idx, val_idx in kf.split(X):\n",
        "            # Split data into training and validation folds\n",
        "            X_train_fold, X_val_fold = X[train_idx], X[val_idx]\n",
        "            y_train_fold, y_val_fold = y[train_idx], y[val_idx]\n",
        "\n",
        "            # Train Ridge regression on the training fold\n",
        "            w = ridge_closed_form(X_train_fold, y_train_fold, lambd)\n",
        "\n",
        "            # Predict on the validation fold\n",
        "            y_pred_val = predict(X_val_fold, w)\n",
        "\n",
        "            # Compute MSE for the validation fold\n",
        "            mse_scores.append(mean_squared_error(y_val_fold, y_pred_val))\n",
        "\n",
        "        # Compute average MSE across all folds\n",
        "        avg_mse = np.mean(mse_scores)\n",
        "        print(f\"Lambda: {lambd}, Average MSE: {avg_mse:.5f}\")\n",
        "\n",
        "        # Update the best lambda if this one performs better\n",
        "        if avg_mse < best_mse:\n",
        "            best_mse = avg_mse\n",
        "            best_lambda = lambd\n",
        "\n",
        "    return best_lambda, best_mse\n",
        "\n",
        "# Define range of lambda values to test\n",
        "lambdas = [0.01, 0.1, 1.0, 10.0, 100.0]\n",
        "\n",
        "# Perform cross-validation\n",
        "best_lambda, best_mse = cross_validate_ridge(X_scaled, y, lambdas)\n",
        "\n",
        "print(f\"Optimal Lambda: {best_lambda}, Best MSE: {best_mse:.5f}\")\n",
        "\n",
        "# Train final Ridge model with the optimal"
      ],
      "metadata": {
        "colab": {
          "base_uri": "https://localhost:8080/"
        },
        "id": "sEXzMYd3s2tv",
        "outputId": "d1c9fde6-0f86-452c-aee9-b281ab96f520"
      },
      "execution_count": 17,
      "outputs": [
        {
          "output_type": "stream",
          "name": "stdout",
          "text": [
            "Lambda: 0.01, Average MSE: 0.53057\n",
            "Lambda: 0.1, Average MSE: 0.53057\n",
            "Lambda: 1.0, Average MSE: 0.53056\n",
            "Lambda: 10.0, Average MSE: 0.53051\n",
            "Lambda: 100.0, Average MSE: 0.53066\n",
            "Optimal Lambda: 10.0, Best MSE: 0.53051\n"
          ]
        }
      ]
    },
    {
      "cell_type": "markdown",
      "source": [
        "Explanation of Cross-Validation Results\n",
        "\n",
        "The 5-fold cross-validation process tested different values of the regularization parameter lambda to find the optimal value that minimizes the average Mean Squared Error (MSE).\n",
        "\n",
        "Lambda Values Tested - [0.01, 0.1, 1.0, 10.0, 100.0]\n",
        "\n",
        "Optimal Lambda - The lambda value that achieved the lowest average MSE is 10.0 , with a corresponding MSE of 0.53051 .\n",
        "\n",
        "Behavior Across Lambda Values -\n",
        "For smaller lambda values (e.g., 0.01, 0.1), the model is less regularized, which can lead to overfitting.\n",
        "\n",
        "As lambda increases (e.g., 1.0, 10.0), the model becomes more regularized, slightly reducing the MSE.\n",
        "\n",
        "At very high lambda values (e.g., 100.0), the model becomes overly regularized, causing the MSE to increase again.\n",
        "\n",
        "\n",
        "**Conclusion**\n",
        "\n",
        "The optimal lambda of 10.0 strikes a balance between underfitting and overfitting, achieving the best generalization performance on the validation folds.\n",
        "This lambda value will now be used to train the final Ridge regression model on the full training set and evaluate its performance on the test set.\n"
      ],
      "metadata": {
        "id": "HI6Q-2Kftl7g"
      }
    },
    {
      "cell_type": "markdown",
      "source": [
        "## **5. Model Interpretability**"
      ],
      "metadata": {
        "id": "8jLqvwfKt86i"
      }
    },
    {
      "cell_type": "markdown",
      "source": [
        "SHAP Analysis\n",
        "\n",
        "To analyze feature importance using SHAP (SHapley Additive exPlanations) and discuss which features most influence predictions,"
      ],
      "metadata": {
        "id": "hMNPJQTmuLJn"
      }
    },
    {
      "cell_type": "code",
      "source": [
        "import shap\n",
        "\n",
        "# Train Ridge regression with optimal lambda (from cross-validation)\n",
        "optimal_lambda = 10.0  # Replace with the optimal lambda you found earlier\n",
        "ridge = Ridge(alpha=optimal_lambda)\n",
        "ridge.fit(X_train, y_train)\n",
        "\n",
        "# Create a SHAP explainer\n",
        "explainer = shap.Explainer(ridge, X_train)\n",
        "shap_values = explainer(X_train)\n",
        "\n",
        "# Summary plot to show feature importance\n",
        "shap.summary_plot(shap_values, X_train, feature_names=housing.feature_names)\n",
        "\n",
        "# Dependence plot for the most important feature\n",
        "most_important_feature_idx = np.argmax(np.abs(ridge.coef_))  # Index of the most important feature\n",
        "shap.dependence_plot(most_important_feature_idx, shap_values.values, X_train, feature_names=housing.feature_names)"
      ],
      "metadata": {
        "colab": {
          "base_uri": "https://localhost:8080/",
          "height": 929
        },
        "id": "uQLEvVN-uJYA",
        "outputId": "1d8dc01b-0187-40e0-86df-ea1854c52de3"
      },
      "execution_count": 18,
      "outputs": [
        {
          "output_type": "display_data",
          "data": {
            "text/plain": [
              "<Figure size 800x470 with 2 Axes>"
            ],
            "image/png": "[encoded data removed]"
          },
          "metadata": {}
        },
        {
          "output_type": "display_data",
          "data": {
            "text/plain": [
              "<Figure size 750x500 with 2 Axes>"
            ],
            "image/png": "[encoded data removed]"
          },
          "metadata": {}
        }
      ]
    },
    {
      "cell_type": "markdown",
      "source": [
        "1. SHAP Summary Plot\n",
        "\n",
        "Top Features\n",
        "\n",
        "MedInc (Median Income)- Most impactful; higher income → higher house value.\n",
        "\n",
        "Latitude-  Strong negative correlation; higher latitude → lower predicted value.\n",
        "\n",
        "Longitude-  Also important but less so.\n",
        "\n",
        "Other Features\n",
        "\n",
        "AveRooms, HouseAge, AveBedrms, AveOccup, Population: Minor contributions.\n",
        "\n",
        "2. Dependence Plot – Latitude\n",
        "\n",
        "Clear negative trend- Higher latitude → lower SHAP values → lower predicted prices.\n",
        "\n",
        "Highlights geographic influence on housing prices.\n",
        "\n",
        "\n",
        "# **Conclusion**\n",
        "\n",
        "Key Predictors- MedInc, Latitude, Longitude.\n",
        "\n",
        "\n",
        "Socioeconomic Impact - Wealthier areas predict higher prices.\n",
        "\n",
        "Geographic Influence - Location significantly affects value.\n",
        "\n",
        "Model Transparency - SHAP improves trust by explaining predictions feature-by-feature."
      ],
      "metadata": {
        "id": "rcTgm9HCu-JG"
      }
    },
    {
      "cell_type": "markdown",
      "source": [
        "## **6.Interactive Interface**"
      ],
      "metadata": {
        "id": "H9VlHfx3v61g"
      }
    },
    {
      "cell_type": "markdown",
      "source": [
        "To create an interactive interface using ipywidgets, i build a tool that allows users to\n",
        "\n",
        "Adjust the regularization parameter (lambda) and observe its effect on predictions.\n",
        "Input feature values (e.g., MedInc, HouseAge, etc.) and see the predicted house value."
      ],
      "metadata": {
        "id": "RghyN7MjxgJi"
      }
    },
    {
      "cell_type": "code",
      "source": [
        "from ipywidgets import interact, FloatSlider, VBox, HBox, Label\n",
        "import numpy as np\n",
        "\n",
        "# Ridge regression prediction function\n",
        "def ridge_predict(X, y, lambda_, input_features):\n",
        "    # Add bias term to input features\n",
        "    input_features = np.c_[np.ones((X.shape[0], 1)), X]\n",
        "\n",
        "    # Compute Ridge coefficients using closed-form solution\n",
        "    n_features = input_features.shape[1]\n",
        "    I = np.eye(n_features)\n",
        "    I[0, 0] = 0  # Do not regularize bias\n",
        "    w = np.linalg.inv(input_features.T @ input_features + lambda_ * I) @ input_features.T @ y\n",
        "\n",
        "    return w\n",
        "\n",
        "# Interactive function\n",
        "def interactive_ridge(lambda_value, MedInc, HouseAge, AveRooms, AveBedrms, Population, AveOccup, Latitude, Longitude):\n",
        "    # Prepare input features\n",
        "    input_features = np.array([MedInc, HouseAge, AveRooms, AveBedrms, Population, AveOccup, Latitude, Longitude]).reshape(1, -1)\n",
        "    input_features_scaled = scaler.transform(input_features)  # Scale features\n",
        "\n",
        "    # Train Ridge regression with given lambda\n",
        "    w = ridge_predict(X_train, y_train, lambda_value, X_train)\n",
        "\n",
        "    # Predict house value\n",
        "    input_features_b = np.c_[np.ones((input_features_scaled.shape[0], 1)), input_features_scaled]\n",
        "    prediction = input_features_b @ w\n",
        "\n",
        "    print(f\"Predicted Median House Value: {prediction[0]:.2f}\")\n",
        "\n",
        "# Define sliders for input features\n",
        "feature_sliders = {\n",
        "    \"MedInc\": FloatSlider(min=0, max=15, step=0.1, value=3.0, description=\"Median Income\"),\n",
        "    \"HouseAge\": FloatSlider(min=0, max=100, step=1, value=20, description=\"House Age\"),\n",
        "    \"AveRooms\": FloatSlider(min=0, max=10, step=0.1, value=5.0, description=\"Avg Rooms\"),\n",
        "    \"AveBedrms\": FloatSlider(min=0, max=5, step=0.1, value=1.0, description=\"Avg Bedrooms\"),\n",
        "    \"Population\": FloatSlider(min=0, max=5000, step=10, value=1000, description=\"Population\"),\n",
        "    \"AveOccup\": FloatSlider(min=0, max=10, step=0.1, value=3.0, description=\"Avg Occupancy\"),\n",
        "    \"Latitude\": FloatSlider(min=32, max=42, step=0.1, value=37.0, description=\"Latitude\"),\n",
        "    \"Longitude\": FloatSlider(min=-125, max=-114, step=0.1, value=-122.0, description=\"Longitude\")\n",
        "}\n",
        "\n",
        "# Add lambda slider\n",
        "lambda_slider = FloatSlider(min=0.01, max=100, step=0.01, value=1.0, description=\"Lambda\")\n",
        "\n",
        "# Create interactive widget\n",
        "interact(interactive_ridge, lambda_value=lambda_slider, **feature_sliders)"
      ],
      "metadata": {
        "colab": {
          "base_uri": "https://localhost:8080/",
          "height": 499,
          "referenced_widgets": [
            "5423669a12294255a8249a6623c3d0df",
            "e96a450976ff40faa5f9020dece8fbdd",
            "910cda08909e42fb898cd7352db89f85",
            "7c63c0be2cfa4b578b2cca4d9b706a2a",
            "c5eafda6f0b444e0b3a0f8c9172de474",
            "0a67e09e08154363a2d3a8ae3bd5402a",
            "b2d248ab39f4444ea38cc2b9069d00d1",
            "be0a25bb350042ef9e0a095fae316d4a",
            "1f149ecdd9634989ab013f4988f28a34",
            "a5dc7094b0404b06891c728795403199",
            "8000aabd94824cbdb4b020281dd5ecb0",
            "ee3112f7b8344126b8cefd0aaf8b96e5",
            "b256362ea9844b12bbe91f114fbb6065",
            "31364e5e598e4b96bf9d60fa6eafa1df",
            "c68ec666ecfe4b69a5663176b0e6aff9",
            "d7b5333257344cf984d80848433b626a",
            "a459557735b842cdaac6d7973789bfc4",
            "6d269993f95f478c91e94aff933332c1",
            "2485a99b9f304f96bdda23d693816283",
            "af54c4e928b348c7b6191018f831d59f",
            "6af9313e4c33490bad22ccdd74b6124a",
            "ba341642603c482fbec391451844f6b0",
            "24710762c95749b08387c56481f90d61",
            "6161c84ebbd945e7a2a09292d83c0aa7",
            "a3169a9c6aa1450db0d5a094b2fd6b64",
            "a1983f414aa9451fa708c12d2c90874c",
            "fa5a55e269ba484288cc8e7bc6d50225",
            "a4ea43a99c72444497bd8d1620e9e087",
            "99fa7412e83d40268047b4f307494d18",
            "85047b6892dd465f93c5a1449a5aa028",
            "c25eea077c21477dbd514e4b7ae1b334"
          ]
        },
        "id": "nM8YXDYguQ2X",
        "outputId": "b1e0bec9-5fd4-49f5-da43-c0b9edddb62c"
      },
      "execution_count": 19,
      "outputs": [
        {
          "output_type": "display_data",
          "data": {
            "text/plain": [
              "interactive(children=(FloatSlider(value=1.0, description='Lambda', min=0.01, step=0.01), FloatSlider(value=3.0…"
            ],
            "application/vnd.jupyter.widget-view+json": {
              "version_major": 2,
              "version_minor": 0,
              "model_id": "5423669a12294255a8249a6623c3d0df"
            }
          },
          "metadata": {}
        },
        {
          "output_type": "execute_result",
          "data": {
            "text/plain": [
              "<function __main__.interactive_ridge(lambda_value, MedInc, HouseAge, AveRooms, AveBedrms, Population, AveOccup, Latitude, Longitude)>"
            ],
            "text/html": [
              "<div style=\"max-width:800px; border: 1px solid var(--colab-border-color);\"><style>\n",
              "      pre.function-repr-contents {\n",
              "        overflow-x: auto;\n",
              "        padding: 8px 12px;\n",
              "        max-height: 500px;\n",
              "      }\n",
              "\n",
              "      pre.function-repr-contents.function-repr-contents-collapsed {\n",
              "        cursor: pointer;\n",
              "        max-height: 100px;\n",
              "      }\n",
              "    </style>\n",
              "    <pre style=\"white-space: initial; background:\n",
              "         var(--colab-secondary-surface-color); padding: 8px 12px;\n",
              "         border-bottom: 1px solid var(--colab-border-color);\"><b>interactive_ridge</b><br/>def interactive_ridge(lambda_value, MedInc, HouseAge, AveRooms, AveBedrms, Population, AveOccup, Latitude, Longitude)</pre><pre class=\"function-repr-contents function-repr-contents-collapsed\" style=\"\"><a class=\"filepath\" style=\"display:none\" href=\"#\">/content/&lt;ipython-input-19-de9dbf356eb3&gt;</a>&lt;no docstring&gt;</pre></div>"
            ]
          },
          "metadata": {},
          "execution_count": 19
        }
      ]
    },
    {
      "cell_type": "markdown",
      "source": [
        "This interactive tool allows users to explore how Ridge regression works -\n",
        "\n",
        "Adjusting lambda demonstrates the impact of regularization on predictions.\n",
        "\n",
        "Modifying feature values shows how each feature contributes to the predicted house value.\n",
        "\n",
        "Real-time feedback helps users understand the relationship between input features, regularization, and model outputs."
      ],
      "metadata": {
        "id": "hWcBmDcswVXo"
      }
    },
    {
      "cell_type": "markdown",
      "source": [
        "### **7. Creative Extension**"
      ],
      "metadata": {
        "id": "H4yRWYmnwp9C"
      }
    },
    {
      "cell_type": "markdown",
      "source": [
        "Handling Outliers Using Robust Scaling and Winsorization\n",
        "\n",
        "\n",
        "Outliers in the dataset can negatively impact regression models, especially linear models like Ridge and Lasso. These outliers can skew the predictions and lead to poor generalization. To address this, here\n",
        "\n",
        "Use Winsorization to cap extreme values in the target variable (y).\n",
        "Use RobustScaler to scale features, which is less sensitive to outliers compared to StandardScaler.\n",
        "This approach ensures that the model focuses on the majority of the data rather than being overly influenced by extreme values."
      ],
      "metadata": {
        "id": "n-Rlj9TMw89B"
      }
    },
    {
      "cell_type": "code",
      "source": [
        "from sklearn.preprocessing import RobustScaler\n",
        "from scipy.stats.mstats import winsorize\n",
        "\n",
        "# Step 1: Winsorize the target variable (to handle extreme values)\n",
        "y_winsorized = winsorize(y, limits=[0.05, 0.05])  # Cap the top and bottom 5% of the target values\n",
        "\n",
        "# Step 2: Use RobustScaler for feature scaling (less sensitive to outliers)\n",
        "robust_scaler = RobustScaler()\n",
        "X_robust = robust_scaler.fit_transform(X)\n",
        "\n",
        "# Step 3: Split the data into training and testing sets\n",
        "X_train_robust, X_test_robust, y_train_robust, y_test_robust = train_test_split(\n",
        "    X_robust, y_winsorized, test_size=0.2, random_state=42\n",
        ")\n",
        "\n",
        "# Step 4: Train Ridge regression with the robustly scaled data\n",
        "lambda_val = 1.0  # Optimal lambda from cross-validation\n",
        "w_robust = ridge_closed_form(X_train_robust, y_train_robust, lambda_val)\n",
        "y_pred_robust = predict(X_test_robust, w_robust)\n",
        "\n",
        "# Step 5: Evaluate the model\n",
        "mse_robust = mean_squared_error(y_test_robust, y_pred_robust)\n",
        "r2_robust = r2_score(y_test_robust, y_pred_robust)\n",
        "\n",
        "print(\"Performance After Handling Outliers:\")\n",
        "print(f\"MSE: {mse_robust:.5f}\")\n",
        "print(f\"R² Score: {r2_robust:.5f}\")"
      ],
      "metadata": {
        "colab": {
          "base_uri": "https://localhost:8080/"
        },
        "id": "jmmDkTDZwwf8",
        "outputId": "53291f3c-03a8-41c5-afe4-71ec26cf719d"
      },
      "execution_count": 20,
      "outputs": [
        {
          "output_type": "stream",
          "name": "stdout",
          "text": [
            "Performance After Handling Outliers:\n",
            "MSE: 0.54003\n",
            "R² Score: 0.57390\n"
          ]
        }
      ]
    },
    {
      "cell_type": "markdown",
      "source": [
        "Performance After Handling Outliers\n",
        "\n",
        "MSE - 0.54003 (lower than the original Ridge model, indicating better performance).\n",
        "\n",
        "R² Score - 0.57390 (slightly lower than the original, but still comparable).\n",
        "\n",
        "Explanation\n",
        "\n",
        "The MSE improved (decreased), showing that the model is making more accurate predictions after addressing outliers.\n",
        "\n",
        "The R² score slightly decreased , suggesting that while the model's prediction errors are smaller, its ability to explain variance in the target variable remained stable.\n",
        "\n",
        "# **Conclusion**\n",
        "\n",
        "Handling outliers using Winsorization and RobustScaler led to a noticeable improvement in MSE, demonstrating better generalization. Although the R² score remained similar, the reduction in error highlights the robustness of the updated model. This approach is effective for datasets with potential outliers, ensuring the model focuses on the majority of the data rather than extreme values."
      ],
      "metadata": {
        "id": "OPup38KBxL1Z"
      }
    },
    {
      "cell_type": "markdown",
      "source": [],
      "metadata": {
        "id": "ORScCwwIyunm"
      }
    }
  ]
}